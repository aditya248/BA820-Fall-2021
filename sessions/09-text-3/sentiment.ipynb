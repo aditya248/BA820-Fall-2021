{
 "cells": [
  {
   "cell_type": "code",
   "execution_count": 33,
   "metadata": {},
   "outputs": [
    {
     "name": "stderr",
     "output_type": "stream",
     "text": [
      "[nltk_data] Downloading package stopwords to\n",
      "[nltk_data]     C:\\Users\\Aditya\\AppData\\Roaming\\nltk_data...\n",
      "[nltk_data]   Package stopwords is already up-to-date!\n",
      "[nltk_data] Downloading package punkt to\n",
      "[nltk_data]     C:\\Users\\Aditya\\AppData\\Roaming\\nltk_data...\n",
      "[nltk_data]   Package punkt is already up-to-date!\n"
     ]
    }
   ],
   "source": [
    "# imports\n",
    "import numpy as np\n",
    "import pandas as pd\n",
    "import seaborn as sns\n",
    "import matplotlib.pyplot as plt\n",
    "import scikitplot as skplot\n",
    "\n",
    "# some \"fun\" packages\n",
    "from wordcloud import WordCloud\n",
    "import emoji\n",
    "\n",
    "import re\n",
    "import spacy\n",
    "from spacytextblob.spacytextblob import SpacyTextBlob\n",
    "from sklearn.feature_extraction.text import CountVectorizer, TfidfTransformer,TfidfVectorizer  \n",
    "import nltk\n",
    "from nltk.corpus import stopwords\n",
    "nltk.download('stopwords')\n",
    "\n",
    "from afinn import Afinn\n",
    "\n",
    "from newspaper import Article\n",
    "nltk.download('punkt')\n",
    "from nltk.tokenize import word_tokenize, RegexpTokenizer, WordPunctTokenizer, TweetTokenizer"
   ]
  },
  {
   "cell_type": "code",
   "execution_count": 9,
   "metadata": {},
   "outputs": [],
   "source": [
    "SQL = \"\"\"SELECT * from `questrom.datasets.airline-intents` where intent in ('atis_airfare', \n",
    "'atis_ground_service', \n",
    "'atis_airline', \n",
    "'atis_abbreviation')\"\"\"\n",
    "YOUR_BILLING_PROJECT = \"ba820-329602\"\n",
    "airlines = pd.read_gbq(SQL, YOUR_BILLING_PROJECT)"
   ]
  },
  {
   "cell_type": "code",
   "execution_count": 10,
   "metadata": {},
   "outputs": [
    {
     "data": {
      "text/html": [
       "<div>\n",
       "<style scoped>\n",
       "    .dataframe tbody tr th:only-of-type {\n",
       "        vertical-align: middle;\n",
       "    }\n",
       "\n",
       "    .dataframe tbody tr th {\n",
       "        vertical-align: top;\n",
       "    }\n",
       "\n",
       "    .dataframe thead th {\n",
       "        text-align: right;\n",
       "    }\n",
       "</style>\n",
       "<table border=\"1\" class=\"dataframe\">\n",
       "  <thead>\n",
       "    <tr style=\"text-align: right;\">\n",
       "      <th></th>\n",
       "      <th>intent</th>\n",
       "      <th>text</th>\n",
       "    </tr>\n",
       "  </thead>\n",
       "  <tbody>\n",
       "    <tr>\n",
       "      <th>529</th>\n",
       "      <td>atis_airline</td>\n",
       "      <td>which airlines go from san francisco to washi...</td>\n",
       "    </tr>\n",
       "    <tr>\n",
       "      <th>776</th>\n",
       "      <td>atis_ground_service</td>\n",
       "      <td>what ground transportation is available at de...</td>\n",
       "    </tr>\n",
       "  </tbody>\n",
       "</table>\n",
       "</div>"
      ],
      "text/plain": [
       "                  intent                                               text\n",
       "529         atis_airline   which airlines go from san francisco to washi...\n",
       "776  atis_ground_service   what ground transportation is available at de..."
      ]
     },
     "execution_count": 10,
     "metadata": {},
     "output_type": "execute_result"
    }
   ],
   "source": [
    "airlines.sample(2)"
   ]
  },
  {
   "cell_type": "code",
   "execution_count": 23,
   "metadata": {},
   "outputs": [
    {
     "data": {
      "text/html": [
       "<div>\n",
       "<style scoped>\n",
       "    .dataframe tbody tr th:only-of-type {\n",
       "        vertical-align: middle;\n",
       "    }\n",
       "\n",
       "    .dataframe tbody tr th {\n",
       "        vertical-align: top;\n",
       "    }\n",
       "\n",
       "    .dataframe thead th {\n",
       "        text-align: right;\n",
       "    }\n",
       "</style>\n",
       "<table border=\"1\" class=\"dataframe\">\n",
       "  <thead>\n",
       "    <tr style=\"text-align: right;\">\n",
       "      <th></th>\n",
       "      <th>1000</th>\n",
       "      <th>1039</th>\n",
       "      <th>106</th>\n",
       "      <th>1291</th>\n",
       "      <th>139</th>\n",
       "      <th>1700</th>\n",
       "      <th>19</th>\n",
       "      <th>1991</th>\n",
       "      <th>1993</th>\n",
       "      <th>200</th>\n",
       "      <th>...</th>\n",
       "      <th>who</th>\n",
       "      <th>will</th>\n",
       "      <th>with</th>\n",
       "      <th>worth</th>\n",
       "      <th>would</th>\n",
       "      <th>yn</th>\n",
       "      <th>york</th>\n",
       "      <th>you</th>\n",
       "      <th>your</th>\n",
       "      <th>yyz</th>\n",
       "    </tr>\n",
       "  </thead>\n",
       "  <tbody>\n",
       "    <tr>\n",
       "      <th>0</th>\n",
       "      <td>0.000000</td>\n",
       "      <td>0.0</td>\n",
       "      <td>0.0</td>\n",
       "      <td>0.0</td>\n",
       "      <td>0.0</td>\n",
       "      <td>0.0</td>\n",
       "      <td>0.0</td>\n",
       "      <td>0.0</td>\n",
       "      <td>0.0</td>\n",
       "      <td>0.0</td>\n",
       "      <td>...</td>\n",
       "      <td>0.0</td>\n",
       "      <td>0.0</td>\n",
       "      <td>0.0</td>\n",
       "      <td>0.000000</td>\n",
       "      <td>0.0</td>\n",
       "      <td>0.0</td>\n",
       "      <td>0.0</td>\n",
       "      <td>0.0</td>\n",
       "      <td>0.0</td>\n",
       "      <td>0.0</td>\n",
       "    </tr>\n",
       "    <tr>\n",
       "      <th>1</th>\n",
       "      <td>0.426846</td>\n",
       "      <td>0.0</td>\n",
       "      <td>0.0</td>\n",
       "      <td>0.0</td>\n",
       "      <td>0.0</td>\n",
       "      <td>0.0</td>\n",
       "      <td>0.0</td>\n",
       "      <td>0.0</td>\n",
       "      <td>0.0</td>\n",
       "      <td>0.0</td>\n",
       "      <td>...</td>\n",
       "      <td>0.0</td>\n",
       "      <td>0.0</td>\n",
       "      <td>0.0</td>\n",
       "      <td>0.000000</td>\n",
       "      <td>0.0</td>\n",
       "      <td>0.0</td>\n",
       "      <td>0.0</td>\n",
       "      <td>0.0</td>\n",
       "      <td>0.0</td>\n",
       "      <td>0.0</td>\n",
       "    </tr>\n",
       "    <tr>\n",
       "      <th>2</th>\n",
       "      <td>0.000000</td>\n",
       "      <td>0.0</td>\n",
       "      <td>0.0</td>\n",
       "      <td>0.0</td>\n",
       "      <td>0.0</td>\n",
       "      <td>0.0</td>\n",
       "      <td>0.0</td>\n",
       "      <td>0.0</td>\n",
       "      <td>0.0</td>\n",
       "      <td>0.0</td>\n",
       "      <td>...</td>\n",
       "      <td>0.0</td>\n",
       "      <td>0.0</td>\n",
       "      <td>0.0</td>\n",
       "      <td>0.000000</td>\n",
       "      <td>0.0</td>\n",
       "      <td>0.0</td>\n",
       "      <td>0.0</td>\n",
       "      <td>0.0</td>\n",
       "      <td>0.0</td>\n",
       "      <td>0.0</td>\n",
       "    </tr>\n",
       "    <tr>\n",
       "      <th>3</th>\n",
       "      <td>0.000000</td>\n",
       "      <td>0.0</td>\n",
       "      <td>0.0</td>\n",
       "      <td>0.0</td>\n",
       "      <td>0.0</td>\n",
       "      <td>0.0</td>\n",
       "      <td>0.0</td>\n",
       "      <td>0.0</td>\n",
       "      <td>0.0</td>\n",
       "      <td>0.0</td>\n",
       "      <td>...</td>\n",
       "      <td>0.0</td>\n",
       "      <td>0.0</td>\n",
       "      <td>0.0</td>\n",
       "      <td>0.000000</td>\n",
       "      <td>0.0</td>\n",
       "      <td>0.0</td>\n",
       "      <td>0.0</td>\n",
       "      <td>0.0</td>\n",
       "      <td>0.0</td>\n",
       "      <td>0.0</td>\n",
       "    </tr>\n",
       "    <tr>\n",
       "      <th>4</th>\n",
       "      <td>0.000000</td>\n",
       "      <td>0.0</td>\n",
       "      <td>0.0</td>\n",
       "      <td>0.0</td>\n",
       "      <td>0.0</td>\n",
       "      <td>0.0</td>\n",
       "      <td>0.0</td>\n",
       "      <td>0.0</td>\n",
       "      <td>0.0</td>\n",
       "      <td>0.0</td>\n",
       "      <td>...</td>\n",
       "      <td>0.0</td>\n",
       "      <td>0.0</td>\n",
       "      <td>0.0</td>\n",
       "      <td>0.000000</td>\n",
       "      <td>0.0</td>\n",
       "      <td>0.0</td>\n",
       "      <td>0.0</td>\n",
       "      <td>0.0</td>\n",
       "      <td>0.0</td>\n",
       "      <td>0.0</td>\n",
       "    </tr>\n",
       "    <tr>\n",
       "      <th>...</th>\n",
       "      <td>...</td>\n",
       "      <td>...</td>\n",
       "      <td>...</td>\n",
       "      <td>...</td>\n",
       "      <td>...</td>\n",
       "      <td>...</td>\n",
       "      <td>...</td>\n",
       "      <td>...</td>\n",
       "      <td>...</td>\n",
       "      <td>...</td>\n",
       "      <td>...</td>\n",
       "      <td>...</td>\n",
       "      <td>...</td>\n",
       "      <td>...</td>\n",
       "      <td>...</td>\n",
       "      <td>...</td>\n",
       "      <td>...</td>\n",
       "      <td>...</td>\n",
       "      <td>...</td>\n",
       "      <td>...</td>\n",
       "      <td>...</td>\n",
       "    </tr>\n",
       "    <tr>\n",
       "      <th>977</th>\n",
       "      <td>0.000000</td>\n",
       "      <td>0.0</td>\n",
       "      <td>0.0</td>\n",
       "      <td>0.0</td>\n",
       "      <td>0.0</td>\n",
       "      <td>0.0</td>\n",
       "      <td>0.0</td>\n",
       "      <td>0.0</td>\n",
       "      <td>0.0</td>\n",
       "      <td>0.0</td>\n",
       "      <td>...</td>\n",
       "      <td>0.0</td>\n",
       "      <td>0.0</td>\n",
       "      <td>0.0</td>\n",
       "      <td>0.000000</td>\n",
       "      <td>0.0</td>\n",
       "      <td>0.0</td>\n",
       "      <td>0.0</td>\n",
       "      <td>0.0</td>\n",
       "      <td>0.0</td>\n",
       "      <td>0.0</td>\n",
       "    </tr>\n",
       "    <tr>\n",
       "      <th>978</th>\n",
       "      <td>0.000000</td>\n",
       "      <td>0.0</td>\n",
       "      <td>0.0</td>\n",
       "      <td>0.0</td>\n",
       "      <td>0.0</td>\n",
       "      <td>0.0</td>\n",
       "      <td>0.0</td>\n",
       "      <td>0.0</td>\n",
       "      <td>0.0</td>\n",
       "      <td>0.0</td>\n",
       "      <td>...</td>\n",
       "      <td>0.0</td>\n",
       "      <td>0.0</td>\n",
       "      <td>0.0</td>\n",
       "      <td>0.000000</td>\n",
       "      <td>0.0</td>\n",
       "      <td>0.0</td>\n",
       "      <td>0.0</td>\n",
       "      <td>0.0</td>\n",
       "      <td>0.0</td>\n",
       "      <td>0.0</td>\n",
       "    </tr>\n",
       "    <tr>\n",
       "      <th>979</th>\n",
       "      <td>0.000000</td>\n",
       "      <td>0.0</td>\n",
       "      <td>0.0</td>\n",
       "      <td>0.0</td>\n",
       "      <td>0.0</td>\n",
       "      <td>0.0</td>\n",
       "      <td>0.0</td>\n",
       "      <td>0.0</td>\n",
       "      <td>0.0</td>\n",
       "      <td>0.0</td>\n",
       "      <td>...</td>\n",
       "      <td>0.0</td>\n",
       "      <td>0.0</td>\n",
       "      <td>0.0</td>\n",
       "      <td>0.000000</td>\n",
       "      <td>0.0</td>\n",
       "      <td>0.0</td>\n",
       "      <td>0.0</td>\n",
       "      <td>0.0</td>\n",
       "      <td>0.0</td>\n",
       "      <td>0.0</td>\n",
       "    </tr>\n",
       "    <tr>\n",
       "      <th>980</th>\n",
       "      <td>0.000000</td>\n",
       "      <td>0.0</td>\n",
       "      <td>0.0</td>\n",
       "      <td>0.0</td>\n",
       "      <td>0.0</td>\n",
       "      <td>0.0</td>\n",
       "      <td>0.0</td>\n",
       "      <td>0.0</td>\n",
       "      <td>0.0</td>\n",
       "      <td>0.0</td>\n",
       "      <td>...</td>\n",
       "      <td>0.0</td>\n",
       "      <td>0.0</td>\n",
       "      <td>0.0</td>\n",
       "      <td>0.000000</td>\n",
       "      <td>0.0</td>\n",
       "      <td>0.0</td>\n",
       "      <td>0.0</td>\n",
       "      <td>0.0</td>\n",
       "      <td>0.0</td>\n",
       "      <td>0.0</td>\n",
       "    </tr>\n",
       "    <tr>\n",
       "      <th>981</th>\n",
       "      <td>0.000000</td>\n",
       "      <td>0.0</td>\n",
       "      <td>0.0</td>\n",
       "      <td>0.0</td>\n",
       "      <td>0.0</td>\n",
       "      <td>0.0</td>\n",
       "      <td>0.0</td>\n",
       "      <td>0.0</td>\n",
       "      <td>0.0</td>\n",
       "      <td>0.0</td>\n",
       "      <td>...</td>\n",
       "      <td>0.0</td>\n",
       "      <td>0.0</td>\n",
       "      <td>0.0</td>\n",
       "      <td>0.424276</td>\n",
       "      <td>0.0</td>\n",
       "      <td>0.0</td>\n",
       "      <td>0.0</td>\n",
       "      <td>0.0</td>\n",
       "      <td>0.0</td>\n",
       "      <td>0.0</td>\n",
       "    </tr>\n",
       "  </tbody>\n",
       "</table>\n",
       "<p>982 rows × 441 columns</p>\n",
       "</div>"
      ],
      "text/plain": [
       "         1000  1039  106  1291  139  1700   19  1991  1993  200  ...  who  \\\n",
       "0    0.000000   0.0  0.0   0.0  0.0   0.0  0.0   0.0   0.0  0.0  ...  0.0   \n",
       "1    0.426846   0.0  0.0   0.0  0.0   0.0  0.0   0.0   0.0  0.0  ...  0.0   \n",
       "2    0.000000   0.0  0.0   0.0  0.0   0.0  0.0   0.0   0.0  0.0  ...  0.0   \n",
       "3    0.000000   0.0  0.0   0.0  0.0   0.0  0.0   0.0   0.0  0.0  ...  0.0   \n",
       "4    0.000000   0.0  0.0   0.0  0.0   0.0  0.0   0.0   0.0  0.0  ...  0.0   \n",
       "..        ...   ...  ...   ...  ...   ...  ...   ...   ...  ...  ...  ...   \n",
       "977  0.000000   0.0  0.0   0.0  0.0   0.0  0.0   0.0   0.0  0.0  ...  0.0   \n",
       "978  0.000000   0.0  0.0   0.0  0.0   0.0  0.0   0.0   0.0  0.0  ...  0.0   \n",
       "979  0.000000   0.0  0.0   0.0  0.0   0.0  0.0   0.0   0.0  0.0  ...  0.0   \n",
       "980  0.000000   0.0  0.0   0.0  0.0   0.0  0.0   0.0   0.0  0.0  ...  0.0   \n",
       "981  0.000000   0.0  0.0   0.0  0.0   0.0  0.0   0.0   0.0  0.0  ...  0.0   \n",
       "\n",
       "     will  with     worth  would   yn  york  you  your  yyz  \n",
       "0     0.0   0.0  0.000000    0.0  0.0   0.0  0.0   0.0  0.0  \n",
       "1     0.0   0.0  0.000000    0.0  0.0   0.0  0.0   0.0  0.0  \n",
       "2     0.0   0.0  0.000000    0.0  0.0   0.0  0.0   0.0  0.0  \n",
       "3     0.0   0.0  0.000000    0.0  0.0   0.0  0.0   0.0  0.0  \n",
       "4     0.0   0.0  0.000000    0.0  0.0   0.0  0.0   0.0  0.0  \n",
       "..    ...   ...       ...    ...  ...   ...  ...   ...  ...  \n",
       "977   0.0   0.0  0.000000    0.0  0.0   0.0  0.0   0.0  0.0  \n",
       "978   0.0   0.0  0.000000    0.0  0.0   0.0  0.0   0.0  0.0  \n",
       "979   0.0   0.0  0.000000    0.0  0.0   0.0  0.0   0.0  0.0  \n",
       "980   0.0   0.0  0.000000    0.0  0.0   0.0  0.0   0.0  0.0  \n",
       "981   0.0   0.0  0.424276    0.0  0.0   0.0  0.0   0.0  0.0  \n",
       "\n",
       "[982 rows x 441 columns]"
      ]
     },
     "execution_count": 23,
     "metadata": {},
     "output_type": "execute_result"
    }
   ],
   "source": [
    "tfidf = TfidfVectorizer()\n",
    "idf = tfidf.fit_transform(airlines['text'])\n",
    "idf = pd.DataFrame(idf.toarray(), columns=tfidf.get_feature_names_out())\n",
    "idf"
   ]
  },
  {
   "cell_type": "code",
   "execution_count": 30,
   "metadata": {},
   "outputs": [
    {
     "data": {
      "text/html": [
       "<div>\n",
       "<style scoped>\n",
       "    .dataframe tbody tr th:only-of-type {\n",
       "        vertical-align: middle;\n",
       "    }\n",
       "\n",
       "    .dataframe tbody tr th {\n",
       "        vertical-align: top;\n",
       "    }\n",
       "\n",
       "    .dataframe thead th {\n",
       "        text-align: right;\n",
       "    }\n",
       "</style>\n",
       "<table border=\"1\" class=\"dataframe\">\n",
       "  <thead>\n",
       "    <tr style=\"text-align: right;\">\n",
       "      <th></th>\n",
       "      <th>e1</th>\n",
       "      <th>e2</th>\n",
       "      <th>y</th>\n",
       "    </tr>\n",
       "  </thead>\n",
       "  <tbody>\n",
       "    <tr>\n",
       "      <th>0</th>\n",
       "      <td>10.695443</td>\n",
       "      <td>4.590717</td>\n",
       "      <td>atis_airfare</td>\n",
       "    </tr>\n",
       "    <tr>\n",
       "      <th>1</th>\n",
       "      <td>19.005787</td>\n",
       "      <td>-0.966345</td>\n",
       "      <td>atis_airfare</td>\n",
       "    </tr>\n",
       "    <tr>\n",
       "      <th>2</th>\n",
       "      <td>10.055819</td>\n",
       "      <td>5.727744</td>\n",
       "      <td>atis_airfare</td>\n",
       "    </tr>\n",
       "  </tbody>\n",
       "</table>\n",
       "</div>"
      ],
      "text/plain": [
       "          e1        e2             y\n",
       "0  10.695443  4.590717  atis_airfare\n",
       "1  19.005787 -0.966345  atis_airfare\n",
       "2  10.055819  5.727744  atis_airfare"
      ]
     },
     "execution_count": 30,
     "metadata": {},
     "output_type": "execute_result"
    }
   ],
   "source": [
    "# load umap\n",
    "from umap import UMAP\n",
    "u = UMAP(random_state=820)\n",
    "embeds = u.fit_transform(idf)\n",
    "embeds.shape\n",
    "umap_df = pd.DataFrame(embeds, columns=['e1', 'e2'])\n",
    "umap_df['y'] = airlines['intent']\n",
    "umap_df.head(3)"
   ]
  },
  {
   "cell_type": "code",
   "execution_count": 31,
   "metadata": {},
   "outputs": [
    {
     "data": {
      "text/plain": [
       "<AxesSubplot:xlabel='e1', ylabel='e2'>"
      ]
     },
     "execution_count": 31,
     "metadata": {},
     "output_type": "execute_result"
    },
    {
     "data": {
      "image/png": "[encoded data removed]",
      "text/plain": [
       "<Figure size 432x288 with 1 Axes>"
      ]
     },
     "metadata": {
      "needs_background": "light"
     },
     "output_type": "display_data"
    }
   ],
   "source": [
    "sns.scatterplot(x=\"e1\", y=\"e2\", hue=\"y\", data=umap_df, legend=\"full\")"
   ]
  },
  {
   "cell_type": "code",
   "execution_count": 34,
   "metadata": {},
   "outputs": [],
   "source": [
    "corpus = ['I want my MTV! www.mtv.com', \"Can't I have it all for $5.00 @customerservice #help\"]"
   ]
  },
  {
   "cell_type": "code",
   "execution_count": 35,
   "metadata": {},
   "outputs": [
    {
     "data": {
      "text/plain": [
       "[['I', 'want', 'my', 'MTV', '!', 'www.mtv.com'],\n",
       " [\"Can't\",\n",
       "  'I',\n",
       "  'have',\n",
       "  'it',\n",
       "  'all',\n",
       "  'for',\n",
       "  '$',\n",
       "  '5.00',\n",
       "  '@customerservice',\n",
       "  '#help']]"
      ]
     },
     "execution_count": 35,
     "metadata": {},
     "output_type": "execute_result"
    }
   ],
   "source": [
    "social = TweetTokenizer()\n",
    "\n",
    "tokens_social = []\n",
    "for doc in corpus:\n",
    "  tokens_social.append(social.tokenize(doc))\n",
    "\n",
    "\n",
    "# what do we have\n",
    "tokens_social"
   ]
  },
  {
   "cell_type": "code",
   "execution_count": 37,
   "metadata": {},
   "outputs": [
    {
     "name": "stdout",
     "output_type": "stream",
     "text": [
      "3.0\n",
      "-3.0\n"
     ]
    }
   ],
   "source": [
    "afinn = Afinn()\n",
    "print(afinn.score(\"Today is a great day\"))\n",
    "print(afinn.score(\"Today is a horrible day\"))\n",
    "\n"
   ]
  },
  {
   "cell_type": "code",
   "execution_count": 38,
   "metadata": {},
   "outputs": [
    {
     "data": {
      "text/html": [
       "<div>\n",
       "<style scoped>\n",
       "    .dataframe tbody tr th:only-of-type {\n",
       "        vertical-align: middle;\n",
       "    }\n",
       "\n",
       "    .dataframe tbody tr th {\n",
       "        vertical-align: top;\n",
       "    }\n",
       "\n",
       "    .dataframe thead th {\n",
       "        text-align: right;\n",
       "    }\n",
       "</style>\n",
       "<table border=\"1\" class=\"dataframe\">\n",
       "  <thead>\n",
       "    <tr style=\"text-align: right;\">\n",
       "      <th></th>\n",
       "      <th>token</th>\n",
       "      <th>score</th>\n",
       "    </tr>\n",
       "  </thead>\n",
       "  <tbody>\n",
       "    <tr>\n",
       "      <th>0</th>\n",
       "      <td>abandon</td>\n",
       "      <td>-2</td>\n",
       "    </tr>\n",
       "    <tr>\n",
       "      <th>1</th>\n",
       "      <td>abandoned</td>\n",
       "      <td>-2</td>\n",
       "    </tr>\n",
       "    <tr>\n",
       "      <th>2</th>\n",
       "      <td>abandons</td>\n",
       "      <td>-2</td>\n",
       "    </tr>\n",
       "    <tr>\n",
       "      <th>3</th>\n",
       "      <td>abducted</td>\n",
       "      <td>-2</td>\n",
       "    </tr>\n",
       "  </tbody>\n",
       "</table>\n",
       "</div>"
      ],
      "text/plain": [
       "       token  score\n",
       "0    abandon     -2\n",
       "1  abandoned     -2\n",
       "2   abandons     -2\n",
       "3   abducted     -2"
      ]
     },
     "execution_count": 38,
     "metadata": {},
     "output_type": "execute_result"
    }
   ],
   "source": [
    "# let's look at the data behind this\n",
    "URL = \"https://raw.githubusercontent.com/fnielsen/afinn/master/afinn/data/AFINN-111.txt\"\n",
    "ad = pd.read_csv(URL, sep='\\t', header=None, names=['token', 'score'])\n",
    "ad.head(4)"
   ]
  },
  {
   "cell_type": "code",
   "execution_count": 39,
   "metadata": {},
   "outputs": [
    {
     "data": {
      "text/html": [
       "<div>\n",
       "<style scoped>\n",
       "    .dataframe tbody tr th:only-of-type {\n",
       "        vertical-align: middle;\n",
       "    }\n",
       "\n",
       "    .dataframe tbody tr th {\n",
       "        vertical-align: top;\n",
       "    }\n",
       "\n",
       "    .dataframe thead th {\n",
       "        text-align: right;\n",
       "    }\n",
       "</style>\n",
       "<table border=\"1\" class=\"dataframe\">\n",
       "  <thead>\n",
       "    <tr style=\"text-align: right;\">\n",
       "      <th></th>\n",
       "      <th>score</th>\n",
       "    </tr>\n",
       "  </thead>\n",
       "  <tbody>\n",
       "    <tr>\n",
       "      <th>count</th>\n",
       "      <td>2477.000000</td>\n",
       "    </tr>\n",
       "    <tr>\n",
       "      <th>mean</th>\n",
       "      <td>-0.589423</td>\n",
       "    </tr>\n",
       "    <tr>\n",
       "      <th>std</th>\n",
       "      <td>2.123931</td>\n",
       "    </tr>\n",
       "    <tr>\n",
       "      <th>min</th>\n",
       "      <td>-5.000000</td>\n",
       "    </tr>\n",
       "    <tr>\n",
       "      <th>25%</th>\n",
       "      <td>-2.000000</td>\n",
       "    </tr>\n",
       "    <tr>\n",
       "      <th>50%</th>\n",
       "      <td>-2.000000</td>\n",
       "    </tr>\n",
       "    <tr>\n",
       "      <th>75%</th>\n",
       "      <td>2.000000</td>\n",
       "    </tr>\n",
       "    <tr>\n",
       "      <th>max</th>\n",
       "      <td>5.000000</td>\n",
       "    </tr>\n",
       "  </tbody>\n",
       "</table>\n",
       "</div>"
      ],
      "text/plain": [
       "             score\n",
       "count  2477.000000\n",
       "mean     -0.589423\n",
       "std       2.123931\n",
       "min      -5.000000\n",
       "25%      -2.000000\n",
       "50%      -2.000000\n",
       "75%       2.000000\n",
       "max       5.000000"
      ]
     },
     "execution_count": 39,
     "metadata": {},
     "output_type": "execute_result"
    }
   ],
   "source": [
    "ad.describe()"
   ]
  },
  {
   "cell_type": "code",
   "execution_count": 41,
   "metadata": {},
   "outputs": [
    {
     "name": "stderr",
     "output_type": "stream",
     "text": [
      "C:\\ProgramData\\Anaconda3\\envs\\ba820\\lib\\site-packages\\seaborn\\distributions.py:2619: FutureWarning: `distplot` is a deprecated function and will be removed in a future version. Please adapt your code to use either `displot` (a figure-level function with similar flexibility) or `histplot` (an axes-level function for histograms).\n",
      "  warnings.warn(msg, FutureWarning)\n"
     ]
    },
    {
     "data": {
      "text/plain": [
       "<AxesSubplot:xlabel='score', ylabel='Density'>"
      ]
     },
     "execution_count": 41,
     "metadata": {},
     "output_type": "execute_result"
    },
    {
     "data": {
      "image/png": "[encoded data removed]",
      "text/plain": [
       "<Figure size 432x288 with 1 Axes>"
      ]
     },
     "metadata": {
      "needs_background": "light"
     },
     "output_type": "display_data"
    }
   ],
   "source": [
    "sns.distplot(ad.score)"
   ]
  },
  {
   "cell_type": "code",
   "execution_count": 42,
   "metadata": {},
   "outputs": [
    {
     "data": {
      "text/html": [
       "<div>\n",
       "<style scoped>\n",
       "    .dataframe tbody tr th:only-of-type {\n",
       "        vertical-align: middle;\n",
       "    }\n",
       "\n",
       "    .dataframe tbody tr th {\n",
       "        vertical-align: top;\n",
       "    }\n",
       "\n",
       "    .dataframe thead th {\n",
       "        text-align: right;\n",
       "    }\n",
       "</style>\n",
       "<table border=\"1\" class=\"dataframe\">\n",
       "  <thead>\n",
       "    <tr style=\"text-align: right;\">\n",
       "      <th></th>\n",
       "      <th>token</th>\n",
       "      <th>score</th>\n",
       "    </tr>\n",
       "  </thead>\n",
       "  <tbody>\n",
       "    <tr>\n",
       "      <th>2125</th>\n",
       "      <td>stop</td>\n",
       "      <td>-1</td>\n",
       "    </tr>\n",
       "    <tr>\n",
       "      <th>2126</th>\n",
       "      <td>stopped</td>\n",
       "      <td>-1</td>\n",
       "    </tr>\n",
       "    <tr>\n",
       "      <th>2127</th>\n",
       "      <td>stopping</td>\n",
       "      <td>-1</td>\n",
       "    </tr>\n",
       "    <tr>\n",
       "      <th>2128</th>\n",
       "      <td>stops</td>\n",
       "      <td>-1</td>\n",
       "    </tr>\n",
       "    <tr>\n",
       "      <th>2336</th>\n",
       "      <td>unstoppable</td>\n",
       "      <td>2</td>\n",
       "    </tr>\n",
       "  </tbody>\n",
       "</table>\n",
       "</div>"
      ],
      "text/plain": [
       "            token  score\n",
       "2125         stop     -1\n",
       "2126      stopped     -1\n",
       "2127     stopping     -1\n",
       "2128        stops     -1\n",
       "2336  unstoppable      2"
      ]
     },
     "execution_count": 42,
     "metadata": {},
     "output_type": "execute_result"
    }
   ],
   "source": [
    "ROWS = ad.token.str.contains(\"stop\")\n",
    "ad.loc[ROWS, :]"
   ]
  },
  {
   "cell_type": "code",
   "execution_count": 43,
   "metadata": {},
   "outputs": [
    {
     "data": {
      "text/html": [
       "<div>\n",
       "<style scoped>\n",
       "    .dataframe tbody tr th:only-of-type {\n",
       "        vertical-align: middle;\n",
       "    }\n",
       "\n",
       "    .dataframe tbody tr th {\n",
       "        vertical-align: top;\n",
       "    }\n",
       "\n",
       "    .dataframe thead th {\n",
       "        text-align: right;\n",
       "    }\n",
       "</style>\n",
       "<table border=\"1\" class=\"dataframe\">\n",
       "  <thead>\n",
       "    <tr style=\"text-align: right;\">\n",
       "      <th></th>\n",
       "      <th>token</th>\n",
       "      <th>score</th>\n",
       "    </tr>\n",
       "  </thead>\n",
       "  <tbody>\n",
       "    <tr>\n",
       "      <th>1455</th>\n",
       "      <td>lol</td>\n",
       "      <td>3</td>\n",
       "    </tr>\n",
       "    <tr>\n",
       "      <th>1940</th>\n",
       "      <td>rotflol</td>\n",
       "      <td>4</td>\n",
       "    </tr>\n",
       "  </tbody>\n",
       "</table>\n",
       "</div>"
      ],
      "text/plain": [
       "        token  score\n",
       "1455      lol      3\n",
       "1940  rotflol      4"
      ]
     },
     "execution_count": 43,
     "metadata": {},
     "output_type": "execute_result"
    }
   ],
   "source": [
    "ROWS = ad.token.str.contains(\"lol\")\n",
    "ad.loc[ROWS, :]"
   ]
  },
  {
   "cell_type": "code",
   "execution_count": 44,
   "metadata": {},
   "outputs": [
    {
     "data": {
      "text/plain": [
       "0.0"
      ]
     },
     "execution_count": 44,
     "metadata": {},
     "output_type": "execute_result"
    }
   ],
   "source": [
    "afinn.score(\"love hate\")"
   ]
  },
  {
   "cell_type": "code",
   "execution_count": 49,
   "metadata": {},
   "outputs": [
    {
     "data": {
      "text/plain": [
       "[3, -3]"
      ]
     },
     "execution_count": 49,
     "metadata": {},
     "output_type": "execute_result"
    }
   ],
   "source": [
    "afinn.scores(\"love hate\")"
   ]
  },
  {
   "cell_type": "code",
   "execution_count": 80,
   "metadata": {},
   "outputs": [],
   "source": [
    "SQL = \"\"\"SELECT * from `questrom.datasets.bruins_twitter` where hour in (0,1,2,3)\"\"\"\n",
    "YOUR_BILLING_PROJECT = \"ba820-329602\"\n",
    "tw_bruins = pd.read_gbq(SQL, YOUR_BILLING_PROJECT)"
   ]
  },
  {
   "cell_type": "code",
   "execution_count": 81,
   "metadata": {},
   "outputs": [
    {
     "data": {
      "text/html": [
       "<div>\n",
       "<style scoped>\n",
       "    .dataframe tbody tr th:only-of-type {\n",
       "        vertical-align: middle;\n",
       "    }\n",
       "\n",
       "    .dataframe tbody tr th {\n",
       "        vertical-align: top;\n",
       "    }\n",
       "\n",
       "    .dataframe thead th {\n",
       "        text-align: right;\n",
       "    }\n",
       "</style>\n",
       "<table border=\"1\" class=\"dataframe\">\n",
       "  <thead>\n",
       "    <tr style=\"text-align: right;\">\n",
       "      <th></th>\n",
       "      <th>status_id</th>\n",
       "      <th>created_at</th>\n",
       "      <th>text</th>\n",
       "      <th>source</th>\n",
       "      <th>hour</th>\n",
       "      <th>minute</th>\n",
       "      <th>day</th>\n",
       "    </tr>\n",
       "  </thead>\n",
       "  <tbody>\n",
       "    <tr>\n",
       "      <th>0</th>\n",
       "      <td>1204192788650373120</td>\n",
       "      <td>2019-12-10T00:15:08Z</td>\n",
       "      <td>#BOS@#OTT starting soon!\\n\\nHottest players ba...</td>\n",
       "      <td>Player Fan Bot</td>\n",
       "      <td>0</td>\n",
       "      <td>15</td>\n",
       "      <td>10</td>\n",
       "    </tr>\n",
       "    <tr>\n",
       "      <th>1</th>\n",
       "      <td>1204193007072923648</td>\n",
       "      <td>2019-12-10T00:16:00Z</td>\n",
       "      <td>bdnsishduroa. there is NEVER enough bergy cont...</td>\n",
       "      <td>Talon (Plus)</td>\n",
       "      <td>0</td>\n",
       "      <td>16</td>\n",
       "      <td>10</td>\n",
       "    </tr>\n",
       "    <tr>\n",
       "      <th>2</th>\n",
       "      <td>1204194339087364097</td>\n",
       "      <td>2019-12-10T00:21:17Z</td>\n",
       "      <td>#mhsbot today's predictions updated by roster ...</td>\n",
       "      <td>cli-uploader-tool</td>\n",
       "      <td>0</td>\n",
       "      <td>21</td>\n",
       "      <td>10</td>\n",
       "    </tr>\n",
       "    <tr>\n",
       "      <th>3</th>\n",
       "      <td>1204196047372902400</td>\n",
       "      <td>2019-12-10T00:28:05Z</td>\n",
       "      <td>#NHLBruins #GoSensGo get refs O'Halloran and S...</td>\n",
       "      <td>Postcron App</td>\n",
       "      <td>0</td>\n",
       "      <td>28</td>\n",
       "      <td>10</td>\n",
       "    </tr>\n",
       "    <tr>\n",
       "      <th>4</th>\n",
       "      <td>1204199047856377856</td>\n",
       "      <td>2019-12-10T00:40:00Z</td>\n",
       "      <td>Yeah! #Nantucket\\nBoston Celtics \\nLET'S GO CE...</td>\n",
       "      <td>Instagram</td>\n",
       "      <td>0</td>\n",
       "      <td>40</td>\n",
       "      <td>10</td>\n",
       "    </tr>\n",
       "    <tr>\n",
       "      <th>...</th>\n",
       "      <td>...</td>\n",
       "      <td>...</td>\n",
       "      <td>...</td>\n",
       "      <td>...</td>\n",
       "      <td>...</td>\n",
       "      <td>...</td>\n",
       "      <td>...</td>\n",
       "    </tr>\n",
       "    <tr>\n",
       "      <th>6201</th>\n",
       "      <td>1206028151593287686</td>\n",
       "      <td>2019-12-15T01:48:12Z</td>\n",
       "      <td>There's a new top three.\\n\\nPatrice Bergeron i...</td>\n",
       "      <td>Twitter for Android</td>\n",
       "      <td>1</td>\n",
       "      <td>48</td>\n",
       "      <td>15</td>\n",
       "    </tr>\n",
       "    <tr>\n",
       "      <th>6202</th>\n",
       "      <td>1206031364040081408</td>\n",
       "      <td>2019-12-15T02:00:58Z</td>\n",
       "      <td>There's a new top three.\\n\\nPatrice Bergeron i...</td>\n",
       "      <td>Twitter for Android</td>\n",
       "      <td>2</td>\n",
       "      <td>0</td>\n",
       "      <td>15</td>\n",
       "    </tr>\n",
       "    <tr>\n",
       "      <th>6203</th>\n",
       "      <td>1206043109345218560</td>\n",
       "      <td>2019-12-15T02:47:39Z</td>\n",
       "      <td>There's a new top three.\\n\\nPatrice Bergeron i...</td>\n",
       "      <td>Twitter for Android</td>\n",
       "      <td>2</td>\n",
       "      <td>47</td>\n",
       "      <td>15</td>\n",
       "    </tr>\n",
       "    <tr>\n",
       "      <th>6204</th>\n",
       "      <td>1206054494397698049</td>\n",
       "      <td>2019-12-15T03:32:53Z</td>\n",
       "      <td>There's a new top three.\\n\\nPatrice Bergeron i...</td>\n",
       "      <td>Twitter for Android</td>\n",
       "      <td>3</td>\n",
       "      <td>32</td>\n",
       "      <td>15</td>\n",
       "    </tr>\n",
       "    <tr>\n",
       "      <th>6205</th>\n",
       "      <td>1206058255409041408</td>\n",
       "      <td>2019-12-15T03:47:50Z</td>\n",
       "      <td>There's a new top three.\\n\\nPatrice Bergeron i...</td>\n",
       "      <td>Twitter for Android</td>\n",
       "      <td>3</td>\n",
       "      <td>47</td>\n",
       "      <td>15</td>\n",
       "    </tr>\n",
       "  </tbody>\n",
       "</table>\n",
       "<p>6206 rows × 7 columns</p>\n",
       "</div>"
      ],
      "text/plain": [
       "                status_id            created_at  \\\n",
       "0     1204192788650373120  2019-12-10T00:15:08Z   \n",
       "1     1204193007072923648  2019-12-10T00:16:00Z   \n",
       "2     1204194339087364097  2019-12-10T00:21:17Z   \n",
       "3     1204196047372902400  2019-12-10T00:28:05Z   \n",
       "4     1204199047856377856  2019-12-10T00:40:00Z   \n",
       "...                   ...                   ...   \n",
       "6201  1206028151593287686  2019-12-15T01:48:12Z   \n",
       "6202  1206031364040081408  2019-12-15T02:00:58Z   \n",
       "6203  1206043109345218560  2019-12-15T02:47:39Z   \n",
       "6204  1206054494397698049  2019-12-15T03:32:53Z   \n",
       "6205  1206058255409041408  2019-12-15T03:47:50Z   \n",
       "\n",
       "                                                   text               source  \\\n",
       "0     #BOS@#OTT starting soon!\\n\\nHottest players ba...       Player Fan Bot   \n",
       "1     bdnsishduroa. there is NEVER enough bergy cont...         Talon (Plus)   \n",
       "2     #mhsbot today's predictions updated by roster ...    cli-uploader-tool   \n",
       "3     #NHLBruins #GoSensGo get refs O'Halloran and S...         Postcron App   \n",
       "4     Yeah! #Nantucket\\nBoston Celtics \\nLET'S GO CE...            Instagram   \n",
       "...                                                 ...                  ...   \n",
       "6201  There's a new top three.\\n\\nPatrice Bergeron i...  Twitter for Android   \n",
       "6202  There's a new top three.\\n\\nPatrice Bergeron i...  Twitter for Android   \n",
       "6203  There's a new top three.\\n\\nPatrice Bergeron i...  Twitter for Android   \n",
       "6204  There's a new top three.\\n\\nPatrice Bergeron i...  Twitter for Android   \n",
       "6205  There's a new top three.\\n\\nPatrice Bergeron i...  Twitter for Android   \n",
       "\n",
       "      hour  minute  day  \n",
       "0        0      15   10  \n",
       "1        0      16   10  \n",
       "2        0      21   10  \n",
       "3        0      28   10  \n",
       "4        0      40   10  \n",
       "...    ...     ...  ...  \n",
       "6201     1      48   15  \n",
       "6202     2       0   15  \n",
       "6203     2      47   15  \n",
       "6204     3      32   15  \n",
       "6205     3      47   15  \n",
       "\n",
       "[6206 rows x 7 columns]"
      ]
     },
     "execution_count": 81,
     "metadata": {},
     "output_type": "execute_result"
    }
   ],
   "source": [
    "tw_bruins"
   ]
  },
  {
   "cell_type": "code",
   "execution_count": 82,
   "metadata": {},
   "outputs": [],
   "source": [
    "tw_bruins\n",
    "tw_bruins['score'] = tw_bruins['text'].apply(lambda x: afinn.score(x))"
   ]
  },
  {
   "cell_type": "code",
   "execution_count": 83,
   "metadata": {},
   "outputs": [
    {
     "data": {
      "text/html": [
       "<div>\n",
       "<style scoped>\n",
       "    .dataframe tbody tr th:only-of-type {\n",
       "        vertical-align: middle;\n",
       "    }\n",
       "\n",
       "    .dataframe tbody tr th {\n",
       "        vertical-align: top;\n",
       "    }\n",
       "\n",
       "    .dataframe thead th {\n",
       "        text-align: right;\n",
       "    }\n",
       "</style>\n",
       "<table border=\"1\" class=\"dataframe\">\n",
       "  <thead>\n",
       "    <tr style=\"text-align: right;\">\n",
       "      <th></th>\n",
       "      <th>status_id</th>\n",
       "      <th>created_at</th>\n",
       "      <th>text</th>\n",
       "      <th>source</th>\n",
       "      <th>hour</th>\n",
       "      <th>minute</th>\n",
       "      <th>day</th>\n",
       "      <th>score</th>\n",
       "    </tr>\n",
       "  </thead>\n",
       "  <tbody>\n",
       "    <tr>\n",
       "      <th>137</th>\n",
       "      <td>1204188981598019589</td>\n",
       "      <td>2019-12-10T00:00:00Z</td>\n",
       "      <td>#NHLBruins have won 10 straight games when fac...</td>\n",
       "      <td>TweetDeck</td>\n",
       "      <td>0</td>\n",
       "      <td>0</td>\n",
       "      <td>10</td>\n",
       "      <td>12.0</td>\n",
       "    </tr>\n",
       "    <tr>\n",
       "      <th>344</th>\n",
       "      <td>1204189271667740673</td>\n",
       "      <td>2019-12-10T00:01:09Z</td>\n",
       "      <td>In their last 5 games, the Bruins are 1/13 ( 7...</td>\n",
       "      <td>Twitter Web App</td>\n",
       "      <td>0</td>\n",
       "      <td>1</td>\n",
       "      <td>10</td>\n",
       "      <td>5.0</td>\n",
       "    </tr>\n",
       "    <tr>\n",
       "      <th>1529</th>\n",
       "      <td>1204189755266744320</td>\n",
       "      <td>2019-12-10T00:03:05Z</td>\n",
       "      <td>Twelve teams viewing #Sens #Bruins - ANA, ARI,...</td>\n",
       "      <td>Twitter for iPhone</td>\n",
       "      <td>0</td>\n",
       "      <td>3</td>\n",
       "      <td>10</td>\n",
       "      <td>4.0</td>\n",
       "    </tr>\n",
       "    <tr>\n",
       "      <th>5120</th>\n",
       "      <td>1204189804692459520</td>\n",
       "      <td>2019-12-10T00:03:16Z</td>\n",
       "      <td>To the rink.\\n\\n#NHLBruins https://t.co/M1v6rM...</td>\n",
       "      <td>Twitter for iPhone</td>\n",
       "      <td>0</td>\n",
       "      <td>3</td>\n",
       "      <td>10</td>\n",
       "      <td>0.0</td>\n",
       "    </tr>\n",
       "    <tr>\n",
       "      <th>5159</th>\n",
       "      <td>1204189854403350532</td>\n",
       "      <td>2019-12-10T00:03:28Z</td>\n",
       "      <td>To the rink.\\n\\n#NHLBruins https://t.co/M1v6rM...</td>\n",
       "      <td>Twitter for Android</td>\n",
       "      <td>0</td>\n",
       "      <td>3</td>\n",
       "      <td>10</td>\n",
       "      <td>0.0</td>\n",
       "    </tr>\n",
       "    <tr>\n",
       "      <th>...</th>\n",
       "      <td>...</td>\n",
       "      <td>...</td>\n",
       "      <td>...</td>\n",
       "      <td>...</td>\n",
       "      <td>...</td>\n",
       "      <td>...</td>\n",
       "      <td>...</td>\n",
       "      <td>...</td>\n",
       "    </tr>\n",
       "    <tr>\n",
       "      <th>4015</th>\n",
       "      <td>1206785080540225536</td>\n",
       "      <td>2019-12-17T03:55:58Z</td>\n",
       "      <td>(Updated) Fewest standings points lost:\\n#isle...</td>\n",
       "      <td>Twitter for iPhone</td>\n",
       "      <td>3</td>\n",
       "      <td>55</td>\n",
       "      <td>17</td>\n",
       "      <td>-9.0</td>\n",
       "    </tr>\n",
       "    <tr>\n",
       "      <th>4016</th>\n",
       "      <td>1206785335121862657</td>\n",
       "      <td>2019-12-17T03:56:59Z</td>\n",
       "      <td>there is nothing I don’t love about this video</td>\n",
       "      <td>Twitter for iPhone</td>\n",
       "      <td>3</td>\n",
       "      <td>56</td>\n",
       "      <td>17</td>\n",
       "      <td>3.0</td>\n",
       "    </tr>\n",
       "    <tr>\n",
       "      <th>1384</th>\n",
       "      <td>1206785426461282306</td>\n",
       "      <td>2019-12-17T03:57:21Z</td>\n",
       "      <td>(Updated) Fewest standings points lost:\\n#isle...</td>\n",
       "      <td>Twitter Web App</td>\n",
       "      <td>3</td>\n",
       "      <td>57</td>\n",
       "      <td>17</td>\n",
       "      <td>-9.0</td>\n",
       "    </tr>\n",
       "    <tr>\n",
       "      <th>1385</th>\n",
       "      <td>1206785499643465729</td>\n",
       "      <td>2019-12-17T03:57:38Z</td>\n",
       "      <td>Fewest standings points lost:\\n#isles 16\\n#ALL...</td>\n",
       "      <td>Twitter Web App</td>\n",
       "      <td>3</td>\n",
       "      <td>57</td>\n",
       "      <td>17</td>\n",
       "      <td>-6.0</td>\n",
       "    </tr>\n",
       "    <tr>\n",
       "      <th>5861</th>\n",
       "      <td>1206785597542670337</td>\n",
       "      <td>2019-12-17T03:58:02Z</td>\n",
       "      <td>lmfao Pasta how dare you trip Zack Bergeron li...</td>\n",
       "      <td>Twitter for iPhone</td>\n",
       "      <td>3</td>\n",
       "      <td>58</td>\n",
       "      <td>17</td>\n",
       "      <td>6.0</td>\n",
       "    </tr>\n",
       "  </tbody>\n",
       "</table>\n",
       "<p>6206 rows × 8 columns</p>\n",
       "</div>"
      ],
      "text/plain": [
       "                status_id            created_at  \\\n",
       "137   1204188981598019589  2019-12-10T00:00:00Z   \n",
       "344   1204189271667740673  2019-12-10T00:01:09Z   \n",
       "1529  1204189755266744320  2019-12-10T00:03:05Z   \n",
       "5120  1204189804692459520  2019-12-10T00:03:16Z   \n",
       "5159  1204189854403350532  2019-12-10T00:03:28Z   \n",
       "...                   ...                   ...   \n",
       "4015  1206785080540225536  2019-12-17T03:55:58Z   \n",
       "4016  1206785335121862657  2019-12-17T03:56:59Z   \n",
       "1384  1206785426461282306  2019-12-17T03:57:21Z   \n",
       "1385  1206785499643465729  2019-12-17T03:57:38Z   \n",
       "5861  1206785597542670337  2019-12-17T03:58:02Z   \n",
       "\n",
       "                                                   text               source  \\\n",
       "137   #NHLBruins have won 10 straight games when fac...            TweetDeck   \n",
       "344   In their last 5 games, the Bruins are 1/13 ( 7...      Twitter Web App   \n",
       "1529  Twelve teams viewing #Sens #Bruins - ANA, ARI,...   Twitter for iPhone   \n",
       "5120  To the rink.\\n\\n#NHLBruins https://t.co/M1v6rM...   Twitter for iPhone   \n",
       "5159  To the rink.\\n\\n#NHLBruins https://t.co/M1v6rM...  Twitter for Android   \n",
       "...                                                 ...                  ...   \n",
       "4015  (Updated) Fewest standings points lost:\\n#isle...   Twitter for iPhone   \n",
       "4016     there is nothing I don’t love about this video   Twitter for iPhone   \n",
       "1384  (Updated) Fewest standings points lost:\\n#isle...      Twitter Web App   \n",
       "1385  Fewest standings points lost:\\n#isles 16\\n#ALL...      Twitter Web App   \n",
       "5861  lmfao Pasta how dare you trip Zack Bergeron li...   Twitter for iPhone   \n",
       "\n",
       "      hour  minute  day  score  \n",
       "137      0       0   10   12.0  \n",
       "344      0       1   10    5.0  \n",
       "1529     0       3   10    4.0  \n",
       "5120     0       3   10    0.0  \n",
       "5159     0       3   10    0.0  \n",
       "...    ...     ...  ...    ...  \n",
       "4015     3      55   17   -9.0  \n",
       "4016     3      56   17    3.0  \n",
       "1384     3      57   17   -9.0  \n",
       "1385     3      57   17   -6.0  \n",
       "5861     3      58   17    6.0  \n",
       "\n",
       "[6206 rows x 8 columns]"
      ]
     },
     "execution_count": 83,
     "metadata": {},
     "output_type": "execute_result"
    }
   ],
   "source": [
    "tw_bruins = tw_bruins.sort_values(by='status_id')\n",
    "tw_bruins"
   ]
  },
  {
   "cell_type": "code",
   "execution_count": 84,
   "metadata": {},
   "outputs": [],
   "source": [
    "tw_bruins['created_at'] = pd.to_datetime(tw_bruins['created_at'])"
   ]
  },
  {
   "cell_type": "code",
   "execution_count": 85,
   "metadata": {},
   "outputs": [],
   "source": [
    "tw_bruins = tw_bruins.sort_values(by='created_at')"
   ]
  },
  {
   "cell_type": "code",
   "execution_count": 86,
   "metadata": {},
   "outputs": [
    {
     "data": {
      "text/plain": [
       "<AxesSubplot:xlabel='created_at', ylabel='score'>"
      ]
     },
     "execution_count": 86,
     "metadata": {},
     "output_type": "execute_result"
    },
    {
     "data": {
      "image/png": "[encoded data removed]",
      "text/plain": [
       "<Figure size 432x288 with 1 Axes>"
      ]
     },
     "metadata": {
      "needs_background": "light"
     },
     "output_type": "display_data"
    }
   ],
   "source": [
    "sns.lineplot(x = 'created_at', y = 'score', data = tw_bruins)"
   ]
  },
  {
   "cell_type": "code",
   "execution_count": 72,
   "metadata": {},
   "outputs": [
    {
     "data": {
      "text/html": [
       "<div>\n",
       "<style scoped>\n",
       "    .dataframe tbody tr th:only-of-type {\n",
       "        vertical-align: middle;\n",
       "    }\n",
       "\n",
       "    .dataframe tbody tr th {\n",
       "        vertical-align: top;\n",
       "    }\n",
       "\n",
       "    .dataframe thead th {\n",
       "        text-align: right;\n",
       "    }\n",
       "</style>\n",
       "<table border=\"1\" class=\"dataframe\">\n",
       "  <thead>\n",
       "    <tr style=\"text-align: right;\">\n",
       "      <th></th>\n",
       "      <th>score</th>\n",
       "      <th>hour</th>\n",
       "    </tr>\n",
       "  </thead>\n",
       "  <tbody>\n",
       "    <tr>\n",
       "      <th>0</th>\n",
       "      <td>0.411304</td>\n",
       "      <td>0</td>\n",
       "    </tr>\n",
       "    <tr>\n",
       "      <th>1</th>\n",
       "      <td>0.039356</td>\n",
       "      <td>1</td>\n",
       "    </tr>\n",
       "    <tr>\n",
       "      <th>2</th>\n",
       "      <td>0.739606</td>\n",
       "      <td>2</td>\n",
       "    </tr>\n",
       "    <tr>\n",
       "      <th>3</th>\n",
       "      <td>1.213287</td>\n",
       "      <td>3</td>\n",
       "    </tr>\n",
       "  </tbody>\n",
       "</table>\n",
       "</div>"
      ],
      "text/plain": [
       "      score  hour\n",
       "0  0.411304     0\n",
       "1  0.039356     1\n",
       "2  0.739606     2\n",
       "3  1.213287     3"
      ]
     },
     "execution_count": 72,
     "metadata": {},
     "output_type": "execute_result"
    }
   ],
   "source": [
    "mean_by_hour = tw_bruins.groupby(['hour']).mean()\n",
    "mean_by_hour = mean_by_hour.reset_index()\n",
    "mean_by_hour[['score', 'hour']]"
   ]
  },
  {
   "cell_type": "code",
   "execution_count": 87,
   "metadata": {},
   "outputs": [
    {
     "data": {
      "image/png": "[encoded data removed]",
      "text/plain": [
       "<Figure size 432x288 with 1 Axes>"
      ]
     },
     "metadata": {
      "needs_background": "light"
     },
     "output_type": "display_data"
    }
   ],
   "source": [
    "URL = \"https://getthematic.com/insights/word-clouds-harm-insights/\"\n",
    "article = Article(URL)\n",
    "article.download()\n",
    "article.parse()\n",
    "\n",
    "wc = WordCloud(background_color=\"white\")\n",
    "wordcloud = wc.generate(article.text)\n",
    "\n",
    "# Display the  plot:\n",
    "plt.imshow(wordcloud)\n",
    "plt.axis(\"off\")\n",
    "plt.show()"
   ]
  },
  {
   "cell_type": "code",
   "execution_count": 88,
   "metadata": {},
   "outputs": [
    {
     "name": "stdout",
     "output_type": "stream",
     "text": [
      "✔ Download and installation successful\n",
      "You can now load the package via spacy.load('en_core_web_sm')\n"
     ]
    },
    {
     "data": {
      "text/plain": [
       "<spacytextblob.spacytextblob.SpacyTextBlob at 0x176e039a430>"
      ]
     },
     "execution_count": 88,
     "metadata": {},
     "output_type": "execute_result"
    }
   ],
   "source": [
    "import spacy\n",
    "from spacy import cli\n",
    "from spacytextblob.spacytextblob import SpacyTextBlob\n",
    "\n",
    "cli.download(\"en_core_web_sm\")\n",
    "\n",
    "nlp = spacy.load(\"en_core_web_sm\")\n",
    "nlp.add_pipe('spacytextblob')\n"
   ]
  },
  {
   "cell_type": "code",
   "execution_count": 89,
   "metadata": {},
   "outputs": [],
   "source": [
    "corpus = ['Today was a great day', 'Today was a horrible day']\n",
    "docs = list(nlp.pipe(corpus))"
   ]
  },
  {
   "cell_type": "code",
   "execution_count": 92,
   "metadata": {},
   "outputs": [
    {
     "data": {
      "text/plain": [
       "spacy.tokens.doc.Doc"
      ]
     },
     "execution_count": 92,
     "metadata": {},
     "output_type": "execute_result"
    }
   ],
   "source": [
    "doc = docs[0]\n",
    "type(doc)"
   ]
  },
  {
   "cell_type": "code",
   "execution_count": 95,
   "metadata": {},
   "outputs": [
    {
     "data": {
      "text/plain": [
       "0.8"
      ]
     },
     "execution_count": 95,
     "metadata": {},
     "output_type": "execute_result"
    }
   ],
   "source": [
    "doc._.polarity"
   ]
  },
  {
   "cell_type": "code",
   "execution_count": 96,
   "metadata": {},
   "outputs": [
    {
     "data": {
      "text/plain": [
       "0.75"
      ]
     },
     "execution_count": 96,
     "metadata": {},
     "output_type": "execute_result"
    }
   ],
   "source": [
    "doc._.subjectivity"
   ]
  },
  {
   "cell_type": "code",
   "execution_count": 97,
   "metadata": {},
   "outputs": [
    {
     "data": {
      "text/plain": [
       "0.8"
      ]
     },
     "execution_count": 97,
     "metadata": {},
     "output_type": "execute_result"
    }
   ],
   "source": [
    "nlp(\"great\")._.polarity"
   ]
  }
 ],
 "metadata": {
  "interpreter": {
   "hash": "b3ba2566441a7c06988d0923437866b63cedc61552a5af99d1f4fb67d367b25f"
  },
  "kernelspec": {
   "display_name": "Python 3.8.5 64-bit ('base': conda)",
   "language": "python",
   "name": "python3"
  },
  "language_info": {
   "codemirror_mode": {
    "name": "ipython",
    "version": 3
   },
   "file_extension": ".py",
   "mimetype": "text/x-python",
   "name": "python",
   "nbconvert_exporter": "python",
   "pygments_lexer": "ipython3",
   "version": "3.8.12"
  },
  "orig_nbformat": 4
 },
 "nbformat": 4,
 "nbformat_minor": 2
}
