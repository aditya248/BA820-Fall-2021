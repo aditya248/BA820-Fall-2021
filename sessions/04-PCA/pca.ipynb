{
 "cells": [
  {
   "cell_type": "code",
   "execution_count": 12,
   "metadata": {},
   "outputs": [],
   "source": [
    "# imports - usual suspects\n",
    "import numpy as np\n",
    "import pandas as pd\n",
    "import seaborn as sns\n",
    "import matplotlib.pyplot as plt\n",
    "\n",
    "# for distance and h-clustering\n",
    "from scipy.cluster.hierarchy import linkage, dendrogram, fcluster\n",
    "from scipy.spatial.distance import pdist, squareform\n",
    "\n",
    "# sklearn does have some functionality too, but mostly a wrapper to scipy\n",
    "from sklearn.metrics import pairwise_distances \n",
    "from sklearn.preprocessing import StandardScaler\n",
    "\n",
    "from sklearn.preprocessing import StandardScaler\n",
    "from sklearn.decomposition import PCA\n",
    "from sklearn.cluster import KMeans\n",
    "from sklearn import metrics \n"
   ]
  },
  {
   "cell_type": "code",
   "execution_count": 3,
   "metadata": {},
   "outputs": [],
   "source": [
    "SQL = \"SELECT * from `questrom.datasets.judges`\"\n",
    "YOUR_BILLING_PROJECT = \"ba820-329602\"\n",
    "judges = pd.read_gbq(SQL, YOUR_BILLING_PROJECT)"
   ]
  },
  {
   "cell_type": "code",
   "execution_count": 5,
   "metadata": {},
   "outputs": [
    {
     "data": {
      "text/html": [
       "<div>\n",
       "<style scoped>\n",
       "    .dataframe tbody tr th:only-of-type {\n",
       "        vertical-align: middle;\n",
       "    }\n",
       "\n",
       "    .dataframe tbody tr th {\n",
       "        vertical-align: top;\n",
       "    }\n",
       "\n",
       "    .dataframe thead th {\n",
       "        text-align: right;\n",
       "    }\n",
       "</style>\n",
       "<table border=\"1\" class=\"dataframe\">\n",
       "  <thead>\n",
       "    <tr style=\"text-align: right;\">\n",
       "      <th></th>\n",
       "      <th>CONT</th>\n",
       "      <th>INTG</th>\n",
       "      <th>DMNR</th>\n",
       "      <th>DILG</th>\n",
       "      <th>CFMG</th>\n",
       "      <th>DECI</th>\n",
       "      <th>PREP</th>\n",
       "      <th>FAMI</th>\n",
       "      <th>ORAL</th>\n",
       "      <th>WRIT</th>\n",
       "      <th>PHYS</th>\n",
       "      <th>RTEN</th>\n",
       "      <th>judge</th>\n",
       "    </tr>\n",
       "  </thead>\n",
       "  <tbody>\n",
       "    <tr>\n",
       "      <th>32</th>\n",
       "      <td>7.3</td>\n",
       "      <td>6.4</td>\n",
       "      <td>4.3</td>\n",
       "      <td>6.5</td>\n",
       "      <td>6.0</td>\n",
       "      <td>6.2</td>\n",
       "      <td>5.7</td>\n",
       "      <td>5.7</td>\n",
       "      <td>5.1</td>\n",
       "      <td>5.3</td>\n",
       "      <td>5.5</td>\n",
       "      <td>4.8</td>\n",
       "      <td>BRACKEN,J.J.</td>\n",
       "    </tr>\n",
       "    <tr>\n",
       "      <th>25</th>\n",
       "      <td>7.6</td>\n",
       "      <td>7.3</td>\n",
       "      <td>6.9</td>\n",
       "      <td>6.8</td>\n",
       "      <td>6.7</td>\n",
       "      <td>6.8</td>\n",
       "      <td>6.4</td>\n",
       "      <td>6.3</td>\n",
       "      <td>6.3</td>\n",
       "      <td>6.3</td>\n",
       "      <td>7.4</td>\n",
       "      <td>6.6</td>\n",
       "      <td>MCGRATH,J.F.</td>\n",
       "    </tr>\n",
       "    <tr>\n",
       "      <th>15</th>\n",
       "      <td>7.0</td>\n",
       "      <td>7.5</td>\n",
       "      <td>6.4</td>\n",
       "      <td>6.8</td>\n",
       "      <td>6.5</td>\n",
       "      <td>7.0</td>\n",
       "      <td>6.6</td>\n",
       "      <td>6.8</td>\n",
       "      <td>6.3</td>\n",
       "      <td>6.6</td>\n",
       "      <td>6.2</td>\n",
       "      <td>6.5</td>\n",
       "      <td>GRILLO,A.E.</td>\n",
       "    </tr>\n",
       "  </tbody>\n",
       "</table>\n",
       "</div>"
      ],
      "text/plain": [
       "    CONT  INTG  DMNR  DILG  CFMG  DECI  PREP  FAMI  ORAL  WRIT  PHYS  RTEN  \\\n",
       "32   7.3   6.4   4.3   6.5   6.0   6.2   5.7   5.7   5.1   5.3   5.5   4.8   \n",
       "25   7.6   7.3   6.9   6.8   6.7   6.8   6.4   6.3   6.3   6.3   7.4   6.6   \n",
       "15   7.0   7.5   6.4   6.8   6.5   7.0   6.6   6.8   6.3   6.6   6.2   6.5   \n",
       "\n",
       "           judge  \n",
       "32  BRACKEN,J.J.  \n",
       "25  MCGRATH,J.F.  \n",
       "15   GRILLO,A.E.  "
      ]
     },
     "execution_count": 5,
     "metadata": {},
     "output_type": "execute_result"
    }
   ],
   "source": [
    "judges.sample(3)"
   ]
  },
  {
   "cell_type": "code",
   "execution_count": 19,
   "metadata": {},
   "outputs": [
    {
     "name": "stdout",
     "output_type": "stream",
     "text": [
      "<class 'pandas.core.frame.DataFrame'>\n",
      "Index: 43 entries, ARMENTANO,A.J. to NARUK,H.J.\n",
      "Data columns (total 12 columns):\n",
      " #   Column  Non-Null Count  Dtype  \n",
      "---  ------  --------------  -----  \n",
      " 0   CONT    43 non-null     float64\n",
      " 1   INTG    43 non-null     float64\n",
      " 2   DMNR    43 non-null     float64\n",
      " 3   DILG    43 non-null     float64\n",
      " 4   CFMG    43 non-null     float64\n",
      " 5   DECI    43 non-null     float64\n",
      " 6   PREP    43 non-null     float64\n",
      " 7   FAMI    43 non-null     float64\n",
      " 8   ORAL    43 non-null     float64\n",
      " 9   WRIT    43 non-null     float64\n",
      " 10  PHYS    43 non-null     float64\n",
      " 11  RTEN    43 non-null     float64\n",
      "dtypes: float64(12)\n",
      "memory usage: 4.4+ KB\n"
     ]
    }
   ],
   "source": [
    "judges.set_index(\"judge\", inplace=True)\n",
    "judges.info()"
   ]
  },
  {
   "cell_type": "code",
   "execution_count": 7,
   "metadata": {},
   "outputs": [
    {
     "data": {
      "text/html": [
       "<div>\n",
       "<style scoped>\n",
       "    .dataframe tbody tr th:only-of-type {\n",
       "        vertical-align: middle;\n",
       "    }\n",
       "\n",
       "    .dataframe tbody tr th {\n",
       "        vertical-align: top;\n",
       "    }\n",
       "\n",
       "    .dataframe thead th {\n",
       "        text-align: right;\n",
       "    }\n",
       "</style>\n",
       "<table border=\"1\" class=\"dataframe\">\n",
       "  <thead>\n",
       "    <tr style=\"text-align: right;\">\n",
       "      <th></th>\n",
       "      <th>CONT</th>\n",
       "      <th>INTG</th>\n",
       "      <th>DMNR</th>\n",
       "      <th>DILG</th>\n",
       "      <th>CFMG</th>\n",
       "      <th>DECI</th>\n",
       "      <th>PREP</th>\n",
       "      <th>FAMI</th>\n",
       "      <th>ORAL</th>\n",
       "      <th>WRIT</th>\n",
       "      <th>PHYS</th>\n",
       "      <th>RTEN</th>\n",
       "    </tr>\n",
       "  </thead>\n",
       "  <tbody>\n",
       "    <tr>\n",
       "      <th>count</th>\n",
       "      <td>43.000000</td>\n",
       "      <td>43.000000</td>\n",
       "      <td>43.000000</td>\n",
       "      <td>43.000000</td>\n",
       "      <td>43.00000</td>\n",
       "      <td>43.000000</td>\n",
       "      <td>43.000000</td>\n",
       "      <td>43.000000</td>\n",
       "      <td>43.000000</td>\n",
       "      <td>43.000000</td>\n",
       "      <td>43.000000</td>\n",
       "      <td>43.000000</td>\n",
       "    </tr>\n",
       "    <tr>\n",
       "      <th>mean</th>\n",
       "      <td>7.437209</td>\n",
       "      <td>8.020930</td>\n",
       "      <td>7.516279</td>\n",
       "      <td>7.693023</td>\n",
       "      <td>7.47907</td>\n",
       "      <td>7.565116</td>\n",
       "      <td>7.467442</td>\n",
       "      <td>7.488372</td>\n",
       "      <td>7.293023</td>\n",
       "      <td>7.383721</td>\n",
       "      <td>7.934884</td>\n",
       "      <td>7.602326</td>\n",
       "    </tr>\n",
       "    <tr>\n",
       "      <th>std</th>\n",
       "      <td>0.940877</td>\n",
       "      <td>0.770145</td>\n",
       "      <td>1.143705</td>\n",
       "      <td>0.900898</td>\n",
       "      <td>0.86011</td>\n",
       "      <td>0.802936</td>\n",
       "      <td>0.953370</td>\n",
       "      <td>0.948987</td>\n",
       "      <td>1.010044</td>\n",
       "      <td>0.961133</td>\n",
       "      <td>0.939575</td>\n",
       "      <td>1.100971</td>\n",
       "    </tr>\n",
       "    <tr>\n",
       "      <th>min</th>\n",
       "      <td>5.700000</td>\n",
       "      <td>5.900000</td>\n",
       "      <td>4.300000</td>\n",
       "      <td>5.100000</td>\n",
       "      <td>5.40000</td>\n",
       "      <td>5.700000</td>\n",
       "      <td>4.800000</td>\n",
       "      <td>5.100000</td>\n",
       "      <td>4.700000</td>\n",
       "      <td>4.900000</td>\n",
       "      <td>4.700000</td>\n",
       "      <td>4.800000</td>\n",
       "    </tr>\n",
       "    <tr>\n",
       "      <th>25%</th>\n",
       "      <td>6.850000</td>\n",
       "      <td>7.550000</td>\n",
       "      <td>6.900000</td>\n",
       "      <td>7.150000</td>\n",
       "      <td>7.00000</td>\n",
       "      <td>7.100000</td>\n",
       "      <td>6.900000</td>\n",
       "      <td>6.950000</td>\n",
       "      <td>6.850000</td>\n",
       "      <td>6.900000</td>\n",
       "      <td>7.700000</td>\n",
       "      <td>7.150000</td>\n",
       "    </tr>\n",
       "    <tr>\n",
       "      <th>50%</th>\n",
       "      <td>7.300000</td>\n",
       "      <td>8.100000</td>\n",
       "      <td>7.700000</td>\n",
       "      <td>7.800000</td>\n",
       "      <td>7.60000</td>\n",
       "      <td>7.700000</td>\n",
       "      <td>7.700000</td>\n",
       "      <td>7.600000</td>\n",
       "      <td>7.500000</td>\n",
       "      <td>7.600000</td>\n",
       "      <td>8.100000</td>\n",
       "      <td>7.800000</td>\n",
       "    </tr>\n",
       "    <tr>\n",
       "      <th>75%</th>\n",
       "      <td>7.900000</td>\n",
       "      <td>8.550000</td>\n",
       "      <td>8.350000</td>\n",
       "      <td>8.450000</td>\n",
       "      <td>8.05000</td>\n",
       "      <td>8.150000</td>\n",
       "      <td>8.200000</td>\n",
       "      <td>8.250000</td>\n",
       "      <td>8.000000</td>\n",
       "      <td>8.050000</td>\n",
       "      <td>8.500000</td>\n",
       "      <td>8.250000</td>\n",
       "    </tr>\n",
       "    <tr>\n",
       "      <th>max</th>\n",
       "      <td>10.600000</td>\n",
       "      <td>9.200000</td>\n",
       "      <td>9.000000</td>\n",
       "      <td>9.000000</td>\n",
       "      <td>8.70000</td>\n",
       "      <td>8.800000</td>\n",
       "      <td>9.100000</td>\n",
       "      <td>9.100000</td>\n",
       "      <td>8.900000</td>\n",
       "      <td>9.000000</td>\n",
       "      <td>9.100000</td>\n",
       "      <td>9.200000</td>\n",
       "    </tr>\n",
       "  </tbody>\n",
       "</table>\n",
       "</div>"
      ],
      "text/plain": [
       "            CONT       INTG       DMNR       DILG      CFMG       DECI  \\\n",
       "count  43.000000  43.000000  43.000000  43.000000  43.00000  43.000000   \n",
       "mean    7.437209   8.020930   7.516279   7.693023   7.47907   7.565116   \n",
       "std     0.940877   0.770145   1.143705   0.900898   0.86011   0.802936   \n",
       "min     5.700000   5.900000   4.300000   5.100000   5.40000   5.700000   \n",
       "25%     6.850000   7.550000   6.900000   7.150000   7.00000   7.100000   \n",
       "50%     7.300000   8.100000   7.700000   7.800000   7.60000   7.700000   \n",
       "75%     7.900000   8.550000   8.350000   8.450000   8.05000   8.150000   \n",
       "max    10.600000   9.200000   9.000000   9.000000   8.70000   8.800000   \n",
       "\n",
       "            PREP       FAMI       ORAL       WRIT       PHYS       RTEN  \n",
       "count  43.000000  43.000000  43.000000  43.000000  43.000000  43.000000  \n",
       "mean    7.467442   7.488372   7.293023   7.383721   7.934884   7.602326  \n",
       "std     0.953370   0.948987   1.010044   0.961133   0.939575   1.100971  \n",
       "min     4.800000   5.100000   4.700000   4.900000   4.700000   4.800000  \n",
       "25%     6.900000   6.950000   6.850000   6.900000   7.700000   7.150000  \n",
       "50%     7.700000   7.600000   7.500000   7.600000   8.100000   7.800000  \n",
       "75%     8.200000   8.250000   8.000000   8.050000   8.500000   8.250000  \n",
       "max     9.100000   9.100000   8.900000   9.000000   9.100000   9.200000  "
      ]
     },
     "execution_count": 7,
     "metadata": {},
     "output_type": "execute_result"
    }
   ],
   "source": [
    "judges.describe()"
   ]
  },
  {
   "cell_type": "code",
   "execution_count": 21,
   "metadata": {},
   "outputs": [
    {
     "data": {
      "text/plain": [
       "<AxesSubplot:>"
      ]
     },
     "execution_count": 21,
     "metadata": {},
     "output_type": "execute_result"
    },
    {
     "data": {
      "image/png": "[encoded data removed]",
      "text/plain": [
       "<Figure size 432x288 with 2 Axes>"
      ]
     },
     "metadata": {
      "needs_background": "light"
     },
     "output_type": "display_data"
    }
   ],
   "source": [
    "jc = judges.corr()\n",
    "sns.heatmap(jc, cmap=\"Reds\", center=0)"
   ]
  },
  {
   "cell_type": "code",
   "execution_count": 20,
   "metadata": {},
   "outputs": [],
   "source": [
    "pca = PCA()\n",
    "pcs = pca.fit_transform(judges)"
   ]
  },
  {
   "cell_type": "code",
   "execution_count": 22,
   "metadata": {},
   "outputs": [
    {
     "data": {
      "text/plain": [
       "(43, 12)"
      ]
     },
     "execution_count": 22,
     "metadata": {},
     "output_type": "execute_result"
    }
   ],
   "source": [
    "pcs.shape"
   ]
  },
  {
   "cell_type": "code",
   "execution_count": 23,
   "metadata": {},
   "outputs": [
    {
     "data": {
      "text/plain": [
       "numpy.ndarray"
      ]
     },
     "execution_count": 23,
     "metadata": {},
     "output_type": "execute_result"
    }
   ],
   "source": [
    "type(pcs)"
   ]
  },
  {
   "cell_type": "code",
   "execution_count": 25,
   "metadata": {},
   "outputs": [
    {
     "data": {
      "text/plain": [
       "array([8.47610159e-01, 9.01018931e-02, 2.84086516e-02, 2.03835230e-02,\n",
       "       6.43416433e-03, 2.79968809e-03, 1.53529895e-03, 1.09058062e-03,\n",
       "       7.02725931e-04, 4.68278946e-04, 2.86541481e-04, 1.78494745e-04])"
      ]
     },
     "execution_count": 25,
     "metadata": {},
     "output_type": "execute_result"
    }
   ],
   "source": [
    "varexp = pca.explained_variance_ratio_\n",
    "varexp"
   ]
  },
  {
   "cell_type": "code",
   "execution_count": 27,
   "metadata": {},
   "outputs": [
    {
     "name": "stderr",
     "output_type": "stream",
     "text": [
      "C:\\ProgramData\\Anaconda3\\envs\\ba820\\lib\\site-packages\\seaborn\\_decorators.py:36: FutureWarning: Pass the following variables as keyword args: x, y. From version 0.12, the only valid positional argument will be `data`, and passing other arguments without an explicit keyword will result in an error or misinterpretation.\n",
      "  warnings.warn(\n"
     ]
    },
    {
     "data": {
      "image/png": "[encoded data removed]",
      "text/plain": [
       "<Figure size 432x288 with 1 Axes>"
      ]
     },
     "metadata": {
      "needs_background": "light"
     },
     "output_type": "display_data"
    }
   ],
   "source": [
    "#plot\n",
    "plt.title(\"Explained Variance Ratio by Component\")\n",
    "sns.lineplot(range(1,len(varexp)+1), varexp)\n",
    "plt.show()"
   ]
  },
  {
   "cell_type": "code",
   "execution_count": 28,
   "metadata": {},
   "outputs": [
    {
     "name": "stderr",
     "output_type": "stream",
     "text": [
      "C:\\ProgramData\\Anaconda3\\envs\\ba820\\lib\\site-packages\\seaborn\\_decorators.py:36: FutureWarning: Pass the following variables as keyword args: x, y. From version 0.12, the only valid positional argument will be `data`, and passing other arguments without an explicit keyword will result in an error or misinterpretation.\n",
      "  warnings.warn(\n"
     ]
    },
    {
     "data": {
      "image/png": "[encoded data removed]",
      "text/plain": [
       "<Figure size 432x288 with 1 Axes>"
      ]
     },
     "metadata": {
      "needs_background": "light"
     },
     "output_type": "display_data"
    }
   ],
   "source": [
    "#Cum\n",
    "#plot\n",
    "plt.title(\"Explained Variance Ratio by Component\")\n",
    "sns.lineplot(range(1,len(varexp)+1), np.cumsum(varexp))\n",
    "plt.show()"
   ]
  },
  {
   "cell_type": "code",
   "execution_count": 31,
   "metadata": {},
   "outputs": [
    {
     "name": "stderr",
     "output_type": "stream",
     "text": [
      "C:\\ProgramData\\Anaconda3\\envs\\ba820\\lib\\site-packages\\seaborn\\_decorators.py:36: FutureWarning: Pass the following variables as keyword args: x, y. From version 0.12, the only valid positional argument will be `data`, and passing other arguments without an explicit keyword will result in an error or misinterpretation.\n",
      "  warnings.warn(\n"
     ]
    },
    {
     "data": {
      "image/png": "[encoded data removed]",
      "text/plain": [
       "<Figure size 432x288 with 1 Axes>"
      ]
     },
     "metadata": {
      "needs_background": "light"
     },
     "output_type": "display_data"
    }
   ],
   "source": [
    "expl_var = pca.explained_variance_\n",
    "plt.title(\"Explained Variance by Component\")\n",
    "sns.lineplot(range(1,len(varexp)+1), expl_var)\n",
    "plt.axhline(1)\n",
    "plt.show()"
   ]
  },
  {
   "cell_type": "code",
   "execution_count": 32,
   "metadata": {},
   "outputs": [
    {
     "data": {
      "text/plain": [
       "['PC1',\n",
       " 'PC2',\n",
       " 'PC3',\n",
       " 'PC4',\n",
       " 'PC5',\n",
       " 'PC6',\n",
       " 'PC7',\n",
       " 'PC8',\n",
       " 'PC9',\n",
       " 'PC10',\n",
       " 'PC11',\n",
       " 'PC12']"
      ]
     },
     "execution_count": 32,
     "metadata": {},
     "output_type": "execute_result"
    }
   ],
   "source": [
    "pca.n_components_\n",
    "comps = pca.components_\n",
    "COLS = [\"PC\" + str(i) for i in range(1, len(comps)+1)]\n",
    "COLS"
   ]
  },
  {
   "cell_type": "code",
   "execution_count": 34,
   "metadata": {},
   "outputs": [
    {
     "data": {
      "text/html": [
       "<div>\n",
       "<style scoped>\n",
       "    .dataframe tbody tr th:only-of-type {\n",
       "        vertical-align: middle;\n",
       "    }\n",
       "\n",
       "    .dataframe tbody tr th {\n",
       "        vertical-align: top;\n",
       "    }\n",
       "\n",
       "    .dataframe thead th {\n",
       "        text-align: right;\n",
       "    }\n",
       "</style>\n",
       "<table border=\"1\" class=\"dataframe\">\n",
       "  <thead>\n",
       "    <tr style=\"text-align: right;\">\n",
       "      <th></th>\n",
       "      <th>PC1</th>\n",
       "      <th>PC2</th>\n",
       "      <th>PC3</th>\n",
       "      <th>PC4</th>\n",
       "      <th>PC5</th>\n",
       "      <th>PC6</th>\n",
       "      <th>PC7</th>\n",
       "      <th>PC8</th>\n",
       "      <th>PC9</th>\n",
       "      <th>PC10</th>\n",
       "      <th>PC11</th>\n",
       "      <th>PC12</th>\n",
       "    </tr>\n",
       "  </thead>\n",
       "  <tbody>\n",
       "    <tr>\n",
       "      <th>CONT</th>\n",
       "      <td>0.005991</td>\n",
       "      <td>0.933249</td>\n",
       "      <td>-0.319854</td>\n",
       "      <td>0.112933</td>\n",
       "      <td>-0.094623</td>\n",
       "      <td>0.002863</td>\n",
       "      <td>0.017716</td>\n",
       "      <td>-0.049192</td>\n",
       "      <td>0.034529</td>\n",
       "      <td>-0.026983</td>\n",
       "      <td>0.016713</td>\n",
       "      <td>-0.007431</td>\n",
       "    </tr>\n",
       "    <tr>\n",
       "      <th>INTG</th>\n",
       "      <td>-0.234760</td>\n",
       "      <td>-0.138724</td>\n",
       "      <td>-0.369816</td>\n",
       "      <td>0.252211</td>\n",
       "      <td>-0.045907</td>\n",
       "      <td>0.463156</td>\n",
       "      <td>-0.365509</td>\n",
       "      <td>0.417670</td>\n",
       "      <td>0.377488</td>\n",
       "      <td>0.180250</td>\n",
       "      <td>-0.159929</td>\n",
       "      <td>0.006194</td>\n",
       "    </tr>\n",
       "    <tr>\n",
       "      <th>DMNR</th>\n",
       "      <td>-0.347744</td>\n",
       "      <td>-0.232070</td>\n",
       "      <td>-0.663435</td>\n",
       "      <td>0.034666</td>\n",
       "      <td>0.194137</td>\n",
       "      <td>-0.360825</td>\n",
       "      <td>0.394379</td>\n",
       "      <td>-0.167205</td>\n",
       "      <td>0.123296</td>\n",
       "      <td>-0.037205</td>\n",
       "      <td>0.113103</td>\n",
       "      <td>0.055818</td>\n",
       "    </tr>\n",
       "    <tr>\n",
       "      <th>DILG</th>\n",
       "      <td>-0.286783</td>\n",
       "      <td>0.047954</td>\n",
       "      <td>0.224340</td>\n",
       "      <td>0.272806</td>\n",
       "      <td>0.375557</td>\n",
       "      <td>0.563859</td>\n",
       "      <td>0.255305</td>\n",
       "      <td>-0.282669</td>\n",
       "      <td>0.029243</td>\n",
       "      <td>-0.415718</td>\n",
       "      <td>0.097064</td>\n",
       "      <td>0.059530</td>\n",
       "    </tr>\n",
       "    <tr>\n",
       "      <th>CFMG</th>\n",
       "      <td>-0.272019</td>\n",
       "      <td>0.163199</td>\n",
       "      <td>0.189355</td>\n",
       "      <td>-0.024818</td>\n",
       "      <td>0.479640</td>\n",
       "      <td>-0.169861</td>\n",
       "      <td>0.108986</td>\n",
       "      <td>0.680469</td>\n",
       "      <td>-0.268978</td>\n",
       "      <td>0.131736</td>\n",
       "      <td>0.194316</td>\n",
       "      <td>0.040188</td>\n",
       "    </tr>\n",
       "    <tr>\n",
       "      <th>DECI</th>\n",
       "      <td>-0.253302</td>\n",
       "      <td>0.117624</td>\n",
       "      <td>0.249203</td>\n",
       "      <td>-0.024621</td>\n",
       "      <td>0.420295</td>\n",
       "      <td>-0.368777</td>\n",
       "      <td>-0.482836</td>\n",
       "      <td>-0.317726</td>\n",
       "      <td>0.407522</td>\n",
       "      <td>0.097204</td>\n",
       "      <td>-0.186972</td>\n",
       "      <td>0.045702</td>\n",
       "    </tr>\n",
       "    <tr>\n",
       "      <th>PREP</th>\n",
       "      <td>-0.309108</td>\n",
       "      <td>0.047023</td>\n",
       "      <td>0.217022</td>\n",
       "      <td>0.191110</td>\n",
       "      <td>-0.145537</td>\n",
       "      <td>0.063862</td>\n",
       "      <td>0.383739</td>\n",
       "      <td>-0.169372</td>\n",
       "      <td>-0.072270</td>\n",
       "      <td>0.640666</td>\n",
       "      <td>-0.340001</td>\n",
       "      <td>-0.293499</td>\n",
       "    </tr>\n",
       "    <tr>\n",
       "      <th>FAMI</th>\n",
       "      <td>-0.305101</td>\n",
       "      <td>0.014033</td>\n",
       "      <td>0.266923</td>\n",
       "      <td>0.168833</td>\n",
       "      <td>-0.470740</td>\n",
       "      <td>-0.107555</td>\n",
       "      <td>0.024308</td>\n",
       "      <td>-0.005991</td>\n",
       "      <td>0.229474</td>\n",
       "      <td>0.122914</td>\n",
       "      <td>0.535439</td>\n",
       "      <td>0.467666</td>\n",
       "    </tr>\n",
       "    <tr>\n",
       "      <th>ORAL</th>\n",
       "      <td>-0.331953</td>\n",
       "      <td>0.009669</td>\n",
       "      <td>0.037187</td>\n",
       "      <td>0.007519</td>\n",
       "      <td>-0.252866</td>\n",
       "      <td>-0.141531</td>\n",
       "      <td>-0.007365</td>\n",
       "      <td>0.116736</td>\n",
       "      <td>-0.271991</td>\n",
       "      <td>-0.355428</td>\n",
       "      <td>-0.636767</td>\n",
       "      <td>0.429930</td>\n",
       "    </tr>\n",
       "    <tr>\n",
       "      <th>WRIT</th>\n",
       "      <td>-0.313966</td>\n",
       "      <td>-0.018093</td>\n",
       "      <td>0.114879</td>\n",
       "      <td>0.141585</td>\n",
       "      <td>-0.294750</td>\n",
       "      <td>-0.227041</td>\n",
       "      <td>-0.102307</td>\n",
       "      <td>0.141543</td>\n",
       "      <td>0.067270</td>\n",
       "      <td>-0.435038</td>\n",
       "      <td>0.106013</td>\n",
       "      <td>-0.702784</td>\n",
       "    </tr>\n",
       "    <tr>\n",
       "      <th>PHYS</th>\n",
       "      <td>-0.277506</td>\n",
       "      <td>0.096015</td>\n",
       "      <td>0.036036</td>\n",
       "      <td>-0.859239</td>\n",
       "      <td>-0.095228</td>\n",
       "      <td>0.241474</td>\n",
       "      <td>0.158737</td>\n",
       "      <td>0.046967</td>\n",
       "      <td>0.274523</td>\n",
       "      <td>-0.026387</td>\n",
       "      <td>-0.011739</td>\n",
       "      <td>-0.056591</td>\n",
       "    </tr>\n",
       "    <tr>\n",
       "      <th>RTEN</th>\n",
       "      <td>-0.359323</td>\n",
       "      <td>-0.033596</td>\n",
       "      <td>-0.195634</td>\n",
       "      <td>-0.152859</td>\n",
       "      <td>-0.028995</td>\n",
       "      <td>0.164204</td>\n",
       "      <td>-0.465619</td>\n",
       "      <td>-0.294440</td>\n",
       "      <td>-0.624565</td>\n",
       "      <td>0.154691</td>\n",
       "      <td>0.245086</td>\n",
       "      <td>-0.052358</td>\n",
       "    </tr>\n",
       "  </tbody>\n",
       "</table>\n",
       "</div>"
      ],
      "text/plain": [
       "           PC1       PC2       PC3       PC4       PC5       PC6       PC7  \\\n",
       "CONT  0.005991  0.933249 -0.319854  0.112933 -0.094623  0.002863  0.017716   \n",
       "INTG -0.234760 -0.138724 -0.369816  0.252211 -0.045907  0.463156 -0.365509   \n",
       "DMNR -0.347744 -0.232070 -0.663435  0.034666  0.194137 -0.360825  0.394379   \n",
       "DILG -0.286783  0.047954  0.224340  0.272806  0.375557  0.563859  0.255305   \n",
       "CFMG -0.272019  0.163199  0.189355 -0.024818  0.479640 -0.169861  0.108986   \n",
       "DECI -0.253302  0.117624  0.249203 -0.024621  0.420295 -0.368777 -0.482836   \n",
       "PREP -0.309108  0.047023  0.217022  0.191110 -0.145537  0.063862  0.383739   \n",
       "FAMI -0.305101  0.014033  0.266923  0.168833 -0.470740 -0.107555  0.024308   \n",
       "ORAL -0.331953  0.009669  0.037187  0.007519 -0.252866 -0.141531 -0.007365   \n",
       "WRIT -0.313966 -0.018093  0.114879  0.141585 -0.294750 -0.227041 -0.102307   \n",
       "PHYS -0.277506  0.096015  0.036036 -0.859239 -0.095228  0.241474  0.158737   \n",
       "RTEN -0.359323 -0.033596 -0.195634 -0.152859 -0.028995  0.164204 -0.465619   \n",
       "\n",
       "           PC8       PC9      PC10      PC11      PC12  \n",
       "CONT -0.049192  0.034529 -0.026983  0.016713 -0.007431  \n",
       "INTG  0.417670  0.377488  0.180250 -0.159929  0.006194  \n",
       "DMNR -0.167205  0.123296 -0.037205  0.113103  0.055818  \n",
       "DILG -0.282669  0.029243 -0.415718  0.097064  0.059530  \n",
       "CFMG  0.680469 -0.268978  0.131736  0.194316  0.040188  \n",
       "DECI -0.317726  0.407522  0.097204 -0.186972  0.045702  \n",
       "PREP -0.169372 -0.072270  0.640666 -0.340001 -0.293499  \n",
       "FAMI -0.005991  0.229474  0.122914  0.535439  0.467666  \n",
       "ORAL  0.116736 -0.271991 -0.355428 -0.636767  0.429930  \n",
       "WRIT  0.141543  0.067270 -0.435038  0.106013 -0.702784  \n",
       "PHYS  0.046967  0.274523 -0.026387 -0.011739 -0.056591  \n",
       "RTEN -0.294440 -0.624565  0.154691  0.245086 -0.052358  "
      ]
     },
     "execution_count": 34,
     "metadata": {},
     "output_type": "execute_result"
    }
   ],
   "source": [
    "loadings = pd.DataFrame(comps.T, columns=COLS, index=judges.columns)\n",
    "loadings"
   ]
  },
  {
   "cell_type": "code",
   "execution_count": 36,
   "metadata": {},
   "outputs": [
    {
     "data": {
      "text/html": [
       "<div>\n",
       "<style scoped>\n",
       "    .dataframe tbody tr th:only-of-type {\n",
       "        vertical-align: middle;\n",
       "    }\n",
       "\n",
       "    .dataframe tbody tr th {\n",
       "        vertical-align: top;\n",
       "    }\n",
       "\n",
       "    .dataframe thead th {\n",
       "        text-align: right;\n",
       "    }\n",
       "</style>\n",
       "<table border=\"1\" class=\"dataframe\">\n",
       "  <thead>\n",
       "    <tr style=\"text-align: right;\">\n",
       "      <th></th>\n",
       "      <th>c1</th>\n",
       "      <th>c2</th>\n",
       "    </tr>\n",
       "    <tr>\n",
       "      <th>judge</th>\n",
       "      <th></th>\n",
       "      <th></th>\n",
       "    </tr>\n",
       "  </thead>\n",
       "  <tbody>\n",
       "    <tr>\n",
       "      <th>ARMENTANO,A.J.</th>\n",
       "      <td>-0.246242</td>\n",
       "      <td>-0.294062</td>\n",
       "    </tr>\n",
       "    <tr>\n",
       "      <th>ALEXANDER,J.M.</th>\n",
       "      <td>-2.313155</td>\n",
       "      <td>-0.815382</td>\n",
       "    </tr>\n",
       "    <tr>\n",
       "      <th>CALLAHAN,R.J.</th>\n",
       "      <td>-3.701680</td>\n",
       "      <td>2.941512</td>\n",
       "    </tr>\n",
       "    <tr>\n",
       "      <th>MULVEY,H.M.</th>\n",
       "      <td>-3.171528</td>\n",
       "      <td>0.136067</td>\n",
       "    </tr>\n",
       "    <tr>\n",
       "      <th>SHEA,J.F.JR.</th>\n",
       "      <td>-3.414491</td>\n",
       "      <td>-0.141469</td>\n",
       "    </tr>\n",
       "  </tbody>\n",
       "</table>\n",
       "</div>"
      ],
      "text/plain": [
       "                      c1        c2\n",
       "judge                             \n",
       "ARMENTANO,A.J. -0.246242 -0.294062\n",
       "ALEXANDER,J.M. -2.313155 -0.815382\n",
       "CALLAHAN,R.J.  -3.701680  2.941512\n",
       "MULVEY,H.M.    -3.171528  0.136067\n",
       "SHEA,J.F.JR.   -3.414491 -0.141469"
      ]
     },
     "execution_count": 36,
     "metadata": {},
     "output_type": "execute_result"
    }
   ],
   "source": [
    "comp_judges = pcs[:,:2]\n",
    "comp_judges.shape\n",
    "\n",
    "j = pd.DataFrame(comp_judges, columns=[\"c1\",\"c2\"], index=judges.index)\n",
    "j.head()"
   ]
  },
  {
   "cell_type": "code",
   "execution_count": 37,
   "metadata": {},
   "outputs": [
    {
     "data": {
      "text/plain": [
       "<AxesSubplot:xlabel='c1', ylabel='c2'>"
      ]
     },
     "execution_count": 37,
     "metadata": {},
     "output_type": "execute_result"
    },
    {
     "data": {
      "image/png": "[encoded data removed]",
      "text/plain": [
       "<Figure size 432x288 with 1 Axes>"
      ]
     },
     "metadata": {
      "needs_background": "light"
     },
     "output_type": "display_data"
    }
   ],
   "source": [
    "sns.scatterplot(data=j, x=\"c1\", y=\"c2\")"
   ]
  }
 ],
 "metadata": {
  "interpreter": {
   "hash": "7dcb6ea965bf3187626f7729e08f0382c0d9c49882af28167516eee557c33112"
  },
  "kernelspec": {
   "display_name": "Python 3.8.12 64-bit ('ba820': conda)",
   "name": "python3"
  },
  "language_info": {
   "codemirror_mode": {
    "name": "ipython",
    "version": 3
   },
   "file_extension": ".py",
   "mimetype": "text/x-python",
   "name": "python",
   "nbconvert_exporter": "python",
   "pygments_lexer": "ipython3",
   "version": "3.8.12"
  },
  "orig_nbformat": 4
 },
 "nbformat": 4,
 "nbformat_minor": 2
}
