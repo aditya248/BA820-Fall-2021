{
 "cells": [
  {
   "cell_type": "code",
   "execution_count": 2,
   "metadata": {},
   "outputs": [],
   "source": [
    "import numpy as np\n",
    "import pandas as pd\n",
    "import seaborn as sns\n",
    "import matplotlib.pyplot as plt\n",
    "from matplotlib import cm\n",
    "\n",
    "# scipy\n",
    "from scipy.spatial.distance import pdist\n",
    "\n",
    "# scikit\n",
    "from sklearn.decomposition import PCA\n",
    "from sklearn.preprocessing import MinMaxScaler, StandardScaler\n",
    "from sklearn.manifold import MDS\n",
    "from sklearn.manifold import TSNE\n",
    "from sklearn.datasets import load_iris\n",
    "from sklearn import metrics\n",
    "from sklearn.cluster import KMeans"
   ]
  },
  {
   "cell_type": "code",
   "execution_count": 5,
   "metadata": {},
   "outputs": [],
   "source": [
    "PROJECT = \"ba820-329602\"\n",
    "SQL = \"SELECT * from `questrom.datasets.wine`\"\n",
    "wine = pd.read_gbq(SQL, PROJECT)"
   ]
  },
  {
   "cell_type": "code",
   "execution_count": 7,
   "metadata": {},
   "outputs": [
    {
     "data": {
      "text/html": [
       "<div>\n",
       "<style scoped>\n",
       "    .dataframe tbody tr th:only-of-type {\n",
       "        vertical-align: middle;\n",
       "    }\n",
       "\n",
       "    .dataframe tbody tr th {\n",
       "        vertical-align: top;\n",
       "    }\n",
       "\n",
       "    .dataframe thead th {\n",
       "        text-align: right;\n",
       "    }\n",
       "</style>\n",
       "<table border=\"1\" class=\"dataframe\">\n",
       "  <thead>\n",
       "    <tr style=\"text-align: right;\">\n",
       "      <th></th>\n",
       "      <th>fixed_acidity</th>\n",
       "      <th>volatile_acidity</th>\n",
       "      <th>citric_acid</th>\n",
       "      <th>residual_sugar</th>\n",
       "      <th>chlorides</th>\n",
       "      <th>free_sulfur_dioxide</th>\n",
       "      <th>total_sulfur_dioxide</th>\n",
       "      <th>density</th>\n",
       "      <th>pH</th>\n",
       "      <th>sulphates</th>\n",
       "      <th>alcohol</th>\n",
       "      <th>quality</th>\n",
       "    </tr>\n",
       "  </thead>\n",
       "  <tbody>\n",
       "    <tr>\n",
       "      <th>349</th>\n",
       "      <td>6.4</td>\n",
       "      <td>0.795</td>\n",
       "      <td>0.00</td>\n",
       "      <td>2.2</td>\n",
       "      <td>0.065</td>\n",
       "      <td>28.0</td>\n",
       "      <td>52.0</td>\n",
       "      <td>0.99378</td>\n",
       "      <td>3.49</td>\n",
       "      <td>0.52</td>\n",
       "      <td>11.6</td>\n",
       "      <td>5</td>\n",
       "    </tr>\n",
       "    <tr>\n",
       "      <th>28</th>\n",
       "      <td>7.5</td>\n",
       "      <td>0.380</td>\n",
       "      <td>0.48</td>\n",
       "      <td>2.6</td>\n",
       "      <td>0.073</td>\n",
       "      <td>22.0</td>\n",
       "      <td>84.0</td>\n",
       "      <td>0.99720</td>\n",
       "      <td>3.32</td>\n",
       "      <td>0.70</td>\n",
       "      <td>9.6</td>\n",
       "      <td>4</td>\n",
       "    </tr>\n",
       "    <tr>\n",
       "      <th>553</th>\n",
       "      <td>7.4</td>\n",
       "      <td>0.610</td>\n",
       "      <td>0.01</td>\n",
       "      <td>2.0</td>\n",
       "      <td>0.074</td>\n",
       "      <td>13.0</td>\n",
       "      <td>38.0</td>\n",
       "      <td>0.99748</td>\n",
       "      <td>3.48</td>\n",
       "      <td>0.65</td>\n",
       "      <td>9.8</td>\n",
       "      <td>5</td>\n",
       "    </tr>\n",
       "  </tbody>\n",
       "</table>\n",
       "</div>"
      ],
      "text/plain": [
       "     fixed_acidity  volatile_acidity  citric_acid  residual_sugar  chlorides  \\\n",
       "349            6.4             0.795         0.00             2.2      0.065   \n",
       "28             7.5             0.380         0.48             2.6      0.073   \n",
       "553            7.4             0.610         0.01             2.0      0.074   \n",
       "\n",
       "     free_sulfur_dioxide  total_sulfur_dioxide  density    pH  sulphates  \\\n",
       "349                 28.0                  52.0  0.99378  3.49       0.52   \n",
       "28                  22.0                  84.0  0.99720  3.32       0.70   \n",
       "553                 13.0                  38.0  0.99748  3.48       0.65   \n",
       "\n",
       "     alcohol  quality  \n",
       "349     11.6        5  \n",
       "28       9.6        4  \n",
       "553      9.8        5  "
      ]
     },
     "execution_count": 7,
     "metadata": {},
     "output_type": "execute_result"
    }
   ],
   "source": [
    "wine.sample(3)"
   ]
  },
  {
   "cell_type": "code",
   "execution_count": 8,
   "metadata": {},
   "outputs": [],
   "source": [
    "Y=wine['quality']\n",
    "X=wine.drop('quality', axis=1)"
   ]
  },
  {
   "cell_type": "code",
   "execution_count": 9,
   "metadata": {},
   "outputs": [
    {
     "data": {
      "text/plain": [
       "0       3\n",
       "1       3\n",
       "2       3\n",
       "3       3\n",
       "4       3\n",
       "       ..\n",
       "1594    8\n",
       "1595    8\n",
       "1596    8\n",
       "1597    8\n",
       "1598    8\n",
       "Name: quality, Length: 1599, dtype: int64"
      ]
     },
     "execution_count": 9,
     "metadata": {},
     "output_type": "execute_result"
    }
   ],
   "source": [
    "Y"
   ]
  },
  {
   "cell_type": "code",
   "execution_count": 10,
   "metadata": {},
   "outputs": [
    {
     "data": {
      "text/html": [
       "<div>\n",
       "<style scoped>\n",
       "    .dataframe tbody tr th:only-of-type {\n",
       "        vertical-align: middle;\n",
       "    }\n",
       "\n",
       "    .dataframe tbody tr th {\n",
       "        vertical-align: top;\n",
       "    }\n",
       "\n",
       "    .dataframe thead th {\n",
       "        text-align: right;\n",
       "    }\n",
       "</style>\n",
       "<table border=\"1\" class=\"dataframe\">\n",
       "  <thead>\n",
       "    <tr style=\"text-align: right;\">\n",
       "      <th></th>\n",
       "      <th>fixed_acidity</th>\n",
       "      <th>volatile_acidity</th>\n",
       "      <th>citric_acid</th>\n",
       "      <th>residual_sugar</th>\n",
       "      <th>chlorides</th>\n",
       "      <th>free_sulfur_dioxide</th>\n",
       "      <th>total_sulfur_dioxide</th>\n",
       "      <th>density</th>\n",
       "      <th>pH</th>\n",
       "      <th>sulphates</th>\n",
       "      <th>alcohol</th>\n",
       "    </tr>\n",
       "  </thead>\n",
       "  <tbody>\n",
       "    <tr>\n",
       "      <th>0</th>\n",
       "      <td>11.6</td>\n",
       "      <td>0.580</td>\n",
       "      <td>0.66</td>\n",
       "      <td>2.20</td>\n",
       "      <td>0.074</td>\n",
       "      <td>10.0</td>\n",
       "      <td>47.0</td>\n",
       "      <td>1.00080</td>\n",
       "      <td>3.25</td>\n",
       "      <td>0.57</td>\n",
       "      <td>9.0</td>\n",
       "    </tr>\n",
       "    <tr>\n",
       "      <th>1</th>\n",
       "      <td>8.3</td>\n",
       "      <td>1.020</td>\n",
       "      <td>0.02</td>\n",
       "      <td>3.40</td>\n",
       "      <td>0.084</td>\n",
       "      <td>6.0</td>\n",
       "      <td>11.0</td>\n",
       "      <td>0.99892</td>\n",
       "      <td>3.48</td>\n",
       "      <td>0.49</td>\n",
       "      <td>11.0</td>\n",
       "    </tr>\n",
       "    <tr>\n",
       "      <th>2</th>\n",
       "      <td>7.3</td>\n",
       "      <td>0.980</td>\n",
       "      <td>0.05</td>\n",
       "      <td>2.10</td>\n",
       "      <td>0.061</td>\n",
       "      <td>20.0</td>\n",
       "      <td>49.0</td>\n",
       "      <td>0.99705</td>\n",
       "      <td>3.31</td>\n",
       "      <td>0.55</td>\n",
       "      <td>9.7</td>\n",
       "    </tr>\n",
       "    <tr>\n",
       "      <th>3</th>\n",
       "      <td>7.1</td>\n",
       "      <td>0.875</td>\n",
       "      <td>0.05</td>\n",
       "      <td>5.70</td>\n",
       "      <td>0.082</td>\n",
       "      <td>3.0</td>\n",
       "      <td>14.0</td>\n",
       "      <td>0.99808</td>\n",
       "      <td>3.40</td>\n",
       "      <td>0.52</td>\n",
       "      <td>10.2</td>\n",
       "    </tr>\n",
       "    <tr>\n",
       "      <th>4</th>\n",
       "      <td>7.4</td>\n",
       "      <td>1.185</td>\n",
       "      <td>0.00</td>\n",
       "      <td>4.25</td>\n",
       "      <td>0.097</td>\n",
       "      <td>5.0</td>\n",
       "      <td>14.0</td>\n",
       "      <td>0.99660</td>\n",
       "      <td>3.63</td>\n",
       "      <td>0.54</td>\n",
       "      <td>10.7</td>\n",
       "    </tr>\n",
       "    <tr>\n",
       "      <th>...</th>\n",
       "      <td>...</td>\n",
       "      <td>...</td>\n",
       "      <td>...</td>\n",
       "      <td>...</td>\n",
       "      <td>...</td>\n",
       "      <td>...</td>\n",
       "      <td>...</td>\n",
       "      <td>...</td>\n",
       "      <td>...</td>\n",
       "      <td>...</td>\n",
       "      <td>...</td>\n",
       "    </tr>\n",
       "    <tr>\n",
       "      <th>1594</th>\n",
       "      <td>10.0</td>\n",
       "      <td>0.260</td>\n",
       "      <td>0.54</td>\n",
       "      <td>1.90</td>\n",
       "      <td>0.083</td>\n",
       "      <td>42.0</td>\n",
       "      <td>74.0</td>\n",
       "      <td>0.99451</td>\n",
       "      <td>2.98</td>\n",
       "      <td>0.63</td>\n",
       "      <td>11.8</td>\n",
       "    </tr>\n",
       "    <tr>\n",
       "      <th>1595</th>\n",
       "      <td>7.9</td>\n",
       "      <td>0.350</td>\n",
       "      <td>0.46</td>\n",
       "      <td>3.60</td>\n",
       "      <td>0.078</td>\n",
       "      <td>15.0</td>\n",
       "      <td>37.0</td>\n",
       "      <td>0.99730</td>\n",
       "      <td>3.35</td>\n",
       "      <td>0.86</td>\n",
       "      <td>12.8</td>\n",
       "    </tr>\n",
       "    <tr>\n",
       "      <th>1596</th>\n",
       "      <td>7.4</td>\n",
       "      <td>0.360</td>\n",
       "      <td>0.30</td>\n",
       "      <td>1.80</td>\n",
       "      <td>0.074</td>\n",
       "      <td>17.0</td>\n",
       "      <td>24.0</td>\n",
       "      <td>0.99419</td>\n",
       "      <td>3.24</td>\n",
       "      <td>0.70</td>\n",
       "      <td>11.4</td>\n",
       "    </tr>\n",
       "    <tr>\n",
       "      <th>1597</th>\n",
       "      <td>5.6</td>\n",
       "      <td>0.850</td>\n",
       "      <td>0.05</td>\n",
       "      <td>1.40</td>\n",
       "      <td>0.045</td>\n",
       "      <td>12.0</td>\n",
       "      <td>88.0</td>\n",
       "      <td>0.99240</td>\n",
       "      <td>3.56</td>\n",
       "      <td>0.82</td>\n",
       "      <td>12.9</td>\n",
       "    </tr>\n",
       "    <tr>\n",
       "      <th>1598</th>\n",
       "      <td>11.3</td>\n",
       "      <td>0.620</td>\n",
       "      <td>0.67</td>\n",
       "      <td>5.20</td>\n",
       "      <td>0.086</td>\n",
       "      <td>6.0</td>\n",
       "      <td>19.0</td>\n",
       "      <td>0.99880</td>\n",
       "      <td>3.22</td>\n",
       "      <td>0.69</td>\n",
       "      <td>13.4</td>\n",
       "    </tr>\n",
       "  </tbody>\n",
       "</table>\n",
       "<p>1599 rows × 11 columns</p>\n",
       "</div>"
      ],
      "text/plain": [
       "      fixed_acidity  volatile_acidity  citric_acid  residual_sugar  chlorides  \\\n",
       "0              11.6             0.580         0.66            2.20      0.074   \n",
       "1               8.3             1.020         0.02            3.40      0.084   \n",
       "2               7.3             0.980         0.05            2.10      0.061   \n",
       "3               7.1             0.875         0.05            5.70      0.082   \n",
       "4               7.4             1.185         0.00            4.25      0.097   \n",
       "...             ...               ...          ...             ...        ...   \n",
       "1594           10.0             0.260         0.54            1.90      0.083   \n",
       "1595            7.9             0.350         0.46            3.60      0.078   \n",
       "1596            7.4             0.360         0.30            1.80      0.074   \n",
       "1597            5.6             0.850         0.05            1.40      0.045   \n",
       "1598           11.3             0.620         0.67            5.20      0.086   \n",
       "\n",
       "      free_sulfur_dioxide  total_sulfur_dioxide  density    pH  sulphates  \\\n",
       "0                    10.0                  47.0  1.00080  3.25       0.57   \n",
       "1                     6.0                  11.0  0.99892  3.48       0.49   \n",
       "2                    20.0                  49.0  0.99705  3.31       0.55   \n",
       "3                     3.0                  14.0  0.99808  3.40       0.52   \n",
       "4                     5.0                  14.0  0.99660  3.63       0.54   \n",
       "...                   ...                   ...      ...   ...        ...   \n",
       "1594                 42.0                  74.0  0.99451  2.98       0.63   \n",
       "1595                 15.0                  37.0  0.99730  3.35       0.86   \n",
       "1596                 17.0                  24.0  0.99419  3.24       0.70   \n",
       "1597                 12.0                  88.0  0.99240  3.56       0.82   \n",
       "1598                  6.0                  19.0  0.99880  3.22       0.69   \n",
       "\n",
       "      alcohol  \n",
       "0         9.0  \n",
       "1        11.0  \n",
       "2         9.7  \n",
       "3        10.2  \n",
       "4        10.7  \n",
       "...       ...  \n",
       "1594     11.8  \n",
       "1595     12.8  \n",
       "1596     11.4  \n",
       "1597     12.9  \n",
       "1598     13.4  \n",
       "\n",
       "[1599 rows x 11 columns]"
      ]
     },
     "execution_count": 10,
     "metadata": {},
     "output_type": "execute_result"
    }
   ],
   "source": [
    "X"
   ]
  },
  {
   "cell_type": "code",
   "execution_count": 12,
   "metadata": {},
   "outputs": [
    {
     "data": {
      "text/plain": [
       "array([[0.61946903, 0.31506849, 0.66      , ..., 0.4015748 , 0.14371257,\n",
       "        0.09230769],\n",
       "       [0.32743363, 0.61643836, 0.02      , ..., 0.58267717, 0.09580838,\n",
       "        0.4       ],\n",
       "       [0.23893805, 0.5890411 , 0.05      , ..., 0.4488189 , 0.13173653,\n",
       "        0.2       ],\n",
       "       ...,\n",
       "       [0.24778761, 0.16438356, 0.3       , ..., 0.39370079, 0.22155689,\n",
       "        0.46153846],\n",
       "       [0.08849558, 0.5       , 0.05      , ..., 0.64566929, 0.29341317,\n",
       "        0.69230769],\n",
       "       [0.59292035, 0.34246575, 0.67      , ..., 0.37795276, 0.21556886,\n",
       "        0.76923077]])"
      ]
     },
     "execution_count": 12,
     "metadata": {},
     "output_type": "execute_result"
    }
   ],
   "source": [
    "scaler = MinMaxScaler()\n",
    "X = scaler.fit_transform(X)"
   ]
  },
  {
   "cell_type": "code",
   "execution_count": 13,
   "metadata": {},
   "outputs": [],
   "source": [
    "pca = PCA()\n",
    "pcs = pca.fit_transform(X)"
   ]
  },
  {
   "cell_type": "code",
   "execution_count": 14,
   "metadata": {},
   "outputs": [
    {
     "data": {
      "text/plain": [
       "array([0.35752287, 0.1942533 , 0.15046322, 0.07232142, 0.05324329,\n",
       "       0.05165235, 0.04082676, 0.03497313, 0.02418984, 0.01467923,\n",
       "       0.00587459])"
      ]
     },
     "execution_count": 14,
     "metadata": {},
     "output_type": "execute_result"
    }
   ],
   "source": [
    "varexp = pca.explained_variance_ratio_\n",
    "varexp"
   ]
  },
  {
   "cell_type": "code",
   "execution_count": 15,
   "metadata": {},
   "outputs": [
    {
     "name": "stderr",
     "output_type": "stream",
     "text": [
      "C:\\ProgramData\\Anaconda3\\envs\\ba820\\lib\\site-packages\\seaborn\\_decorators.py:36: FutureWarning: Pass the following variables as keyword args: x, y. From version 0.12, the only valid positional argument will be `data`, and passing other arguments without an explicit keyword will result in an error or misinterpretation.\n",
      "  warnings.warn(\n"
     ]
    },
    {
     "data": {
      "image/png": "[encoded data removed]",
      "text/plain": [
       "<Figure size 432x288 with 1 Axes>"
      ]
     },
     "metadata": {
      "needs_background": "light"
     },
     "output_type": "display_data"
    }
   ],
   "source": [
    "#plot\n",
    "plt.title(\"Explained Variance Ratio by Component\")\n",
    "sns.lineplot(range(1,len(varexp)+1), varexp)\n",
    "plt.show()"
   ]
  },
  {
   "cell_type": "code",
   "execution_count": 18,
   "metadata": {},
   "outputs": [
    {
     "name": "stderr",
     "output_type": "stream",
     "text": [
      "C:\\ProgramData\\Anaconda3\\envs\\ba820\\lib\\site-packages\\seaborn\\_decorators.py:36: FutureWarning: Pass the following variables as keyword args: x, y. From version 0.12, the only valid positional argument will be `data`, and passing other arguments without an explicit keyword will result in an error or misinterpretation.\n",
      "  warnings.warn(\n"
     ]
    },
    {
     "data": {
      "image/png": "[encoded data removed]",
      "text/plain": [
       "<Figure size 432x288 with 1 Axes>"
      ]
     },
     "metadata": {
      "needs_background": "light"
     },
     "output_type": "display_data"
    }
   ],
   "source": [
    "#Cum\n",
    "#plot\n",
    "plt.title(\"Explained Variance Ratio by Component\")\n",
    "sns.lineplot(range(1,len(varexp)+1), np.cumsum(varexp))\n",
    "plt.show()"
   ]
  },
  {
   "cell_type": "code",
   "execution_count": 19,
   "metadata": {},
   "outputs": [
    {
     "name": "stderr",
     "output_type": "stream",
     "text": [
      "C:\\ProgramData\\Anaconda3\\envs\\ba820\\lib\\site-packages\\seaborn\\_decorators.py:36: FutureWarning: Pass the following variables as keyword args: x, y. From version 0.12, the only valid positional argument will be `data`, and passing other arguments without an explicit keyword will result in an error or misinterpretation.\n",
      "  warnings.warn(\n"
     ]
    },
    {
     "data": {
      "image/png": "[encoded data removed]",
      "text/plain": [
       "<Figure size 432x288 with 1 Axes>"
      ]
     },
     "metadata": {
      "needs_background": "light"
     },
     "output_type": "display_data"
    }
   ],
   "source": [
    "expl_var = pca.explained_variance_\n",
    "plt.title(\"Explained Variance by Component\")\n",
    "sns.lineplot(range(1,len(varexp)+1), expl_var)\n",
    "plt.axhline(1)\n",
    "plt.show()"
   ]
  },
  {
   "cell_type": "code",
   "execution_count": 24,
   "metadata": {},
   "outputs": [],
   "source": [
    "from sklearn import tree\n",
    "clf = tree.DecisionTreeClassifier(max_depth=4)\n",
    "clf = clf.fit(X, Y)"
   ]
  },
  {
   "cell_type": "code",
   "execution_count": 25,
   "metadata": {},
   "outputs": [
    {
     "data": {
      "text/plain": [
       "[Text(167.4, 195.696, 'X[10] <= 0.285\\ngini = 0.643\\nsamples = 1599\\nvalue = [10, 53, 681, 638, 199, 18]'),\n",
       " Text(83.7, 152.208, 'X[9] <= 0.147\\ngini = 0.523\\nsamples = 842\\nvalue = [7, 29, 519, 260, 25, 2]'),\n",
       " Text(41.85, 108.72, 'X[6] <= 0.327\\ngini = 0.411\\nsamples = 353\\nvalue = [4, 19, 262, 66, 2, 0]'),\n",
       " Text(20.925, 65.232, 'X[10] <= 0.208\\ngini = 0.454\\nsamples = 298\\nvalue = [4, 19, 210, 63, 2, 0]'),\n",
       " Text(10.4625, 21.744, 'gini = 0.39\\nsamples = 206\\nvalue = [2, 14, 157, 32, 1, 0]'),\n",
       " Text(31.387500000000003, 21.744, 'gini = 0.551\\nsamples = 92\\nvalue = [2, 5, 53, 31, 1, 0]'),\n",
       " Text(62.775000000000006, 65.232, 'X[4] <= 0.101\\ngini = 0.103\\nsamples = 55\\nvalue = [0, 0, 52, 3, 0, 0]'),\n",
       " Text(52.3125, 21.744, 'gini = 0.408\\nsamples = 7\\nvalue = [0, 0, 5, 2, 0, 0]'),\n",
       " Text(73.2375, 21.744, 'gini = 0.041\\nsamples = 48\\nvalue = [0, 0, 47, 1, 0, 0]'),\n",
       " Text(125.55000000000001, 108.72, 'X[6] <= 0.267\\ngini = 0.564\\nsamples = 489\\nvalue = [3, 10, 257, 194, 23, 2]'),\n",
       " Text(104.625, 65.232, 'X[1] <= 0.293\\ngini = 0.583\\nsamples = 397\\nvalue = [3, 8, 182, 179, 23, 2]'),\n",
       " Text(94.16250000000001, 21.744, 'gini = 0.574\\nsamples = 216\\nvalue = [1, 2, 75, 118, 18, 2]'),\n",
       " Text(115.0875, 21.744, 'gini = 0.535\\nsamples = 181\\nvalue = [2, 6, 107, 61, 5, 0]'),\n",
       " Text(146.475, 65.232, 'X[7] <= 0.971\\ngini = 0.308\\nsamples = 92\\nvalue = [0, 2, 75, 15, 0, 0]'),\n",
       " Text(136.01250000000002, 21.744, 'gini = 0.284\\nsamples = 90\\nvalue = [0, 2, 75, 13, 0, 0]'),\n",
       " Text(156.9375, 21.744, 'gini = 0.0\\nsamples = 2\\nvalue = [0, 0, 0, 2, 0, 0]'),\n",
       " Text(251.10000000000002, 152.208, 'X[10] <= 0.485\\ngini = 0.651\\nsamples = 757\\nvalue = [3, 24, 162, 378, 174, 16]'),\n",
       " Text(209.25, 108.72, 'X[1] <= 0.175\\ngini = 0.634\\nsamples = 507\\nvalue = [3, 21, 144, 259, 76, 4]'),\n",
       " Text(188.32500000000002, 65.232, 'X[8] <= 0.413\\ngini = 0.66\\nsamples = 132\\nvalue = [0, 1, 26, 55, 47, 3]'),\n",
       " Text(177.8625, 21.744, 'gini = 0.609\\nsamples = 57\\nvalue = [0, 0, 6, 18, 30, 3]'),\n",
       " Text(198.7875, 21.744, 'gini = 0.634\\nsamples = 75\\nvalue = [0, 1, 20, 37, 17, 0]'),\n",
       " Text(230.175, 65.232, 'X[9] <= 0.153\\ngini = 0.596\\nsamples = 375\\nvalue = [3, 20, 118, 204, 29, 1]'),\n",
       " Text(219.7125, 21.744, 'gini = 0.644\\nsamples = 123\\nvalue = [3, 14, 56, 45, 5, 0]'),\n",
       " Text(240.63750000000002, 21.744, 'gini = 0.532\\nsamples = 252\\nvalue = [0, 6, 62, 159, 24, 1]'),\n",
       " Text(292.95, 108.72, 'X[9] <= 0.213\\ngini = 0.612\\nsamples = 250\\nvalue = [0, 3, 18, 119, 98, 12]'),\n",
       " Text(272.02500000000003, 65.232, 'X[6] <= 0.034\\ngini = 0.552\\nsamples = 136\\nvalue = [0, 3, 15, 83, 34, 1]'),\n",
       " Text(261.5625, 21.744, 'gini = 0.58\\nsamples = 35\\nvalue = [0, 1, 3, 12, 19, 0]'),\n",
       " Text(282.4875, 21.744, 'gini = 0.469\\nsamples = 101\\nvalue = [0, 2, 12, 71, 15, 1]'),\n",
       " Text(313.875, 65.232, 'X[5] <= 0.246\\ngini = 0.575\\nsamples = 114\\nvalue = [0, 0, 3, 36, 64, 11]'),\n",
       " Text(303.4125, 21.744, 'gini = 0.486\\nsamples = 75\\nvalue = [0, 0, 1, 15, 51, 8]'),\n",
       " Text(324.33750000000003, 21.744, 'gini = 0.59\\nsamples = 39\\nvalue = [0, 0, 2, 21, 13, 3]')]"
      ]
     },
     "execution_count": 25,
     "metadata": {},
     "output_type": "execute_result"
    },
    {
     "data": {
      "image/png": "[encoded data removed]",
      "text/plain": [
       "<Figure size 432x288 with 1 Axes>"
      ]
     },
     "metadata": {
      "needs_background": "light"
     },
     "output_type": "display_data"
    }
   ],
   "source": [
    "tree.plot_tree(clf)"
   ]
  },
  {
   "cell_type": "code",
   "execution_count": 26,
   "metadata": {},
   "outputs": [],
   "source": [
    "preds = clf.predict(X)"
   ]
  },
  {
   "cell_type": "code",
   "execution_count": 27,
   "metadata": {},
   "outputs": [
    {
     "data": {
      "text/plain": [
       "0.6303939962476548"
      ]
     },
     "execution_count": 27,
     "metadata": {},
     "output_type": "execute_result"
    }
   ],
   "source": [
    "metrics.accuracy_score(Y, preds)"
   ]
  }
 ],
 "metadata": {
  "interpreter": {
   "hash": "7dcb6ea965bf3187626f7729e08f0382c0d9c49882af28167516eee557c33112"
  },
  "kernelspec": {
   "display_name": "Python 3.8.12 64-bit ('ba820': conda)",
   "name": "python3"
  },
  "language_info": {
   "codemirror_mode": {
    "name": "ipython",
    "version": 3
   },
   "file_extension": ".py",
   "mimetype": "text/x-python",
   "name": "python",
   "nbconvert_exporter": "python",
   "pygments_lexer": "ipython3",
   "version": "3.8.12"
  },
  "orig_nbformat": 4
 },
 "nbformat": 4,
 "nbformat_minor": 2
}
