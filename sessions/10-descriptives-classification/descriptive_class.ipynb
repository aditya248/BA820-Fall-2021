{
 "cells": [
  {
   "cell_type": "code",
   "execution_count": 3,
   "metadata": {},
   "outputs": [],
   "source": [
    "! pip install newspaper3k -q\n",
    "! pip install -U spacy -q\n",
    "! pip install afinn -q\n",
    "! pip install spacytextblob -q\n",
    "! pip install pysrt -q\n",
    "! pip install textdescriptives -q\n",
    "! pip install tokenwiser -q\n",
    "! pip install gensim -q"
   ]
  },
  {
   "cell_type": "code",
   "execution_count": 4,
   "metadata": {},
   "outputs": [
    {
     "name": "stderr",
     "output_type": "stream",
     "text": [
      "[nltk_data] Downloading package stopwords to\n",
      "[nltk_data]     C:\\Users\\Aditya\\AppData\\Roaming\\nltk_data...\n",
      "[nltk_data]   Package stopwords is already up-to-date!\n",
      "[nltk_data] Downloading package punkt to\n",
      "[nltk_data]     C:\\Users\\Aditya\\AppData\\Roaming\\nltk_data...\n",
      "[nltk_data]   Package punkt is already up-to-date!\n"
     ]
    }
   ],
   "source": [
    "# imports\n",
    "import numpy as np\n",
    "import pandas as pd\n",
    "import seaborn as sns\n",
    "import matplotlib.pyplot as plt\n",
    "\n",
    "\n",
    "# text imports\n",
    "import spacy\n",
    "from spacy import cli\n",
    "from spacytextblob.spacytextblob import SpacyTextBlob\n",
    "import textdescriptives as td\n",
    "import tokenwiser\n",
    "\n",
    "from sklearn.feature_extraction.text import CountVectorizer, TfidfVectorizer  \n",
    "from sklearn.linear_model import LogisticRegression\n",
    "from sklearn.tree import DecisionTreeClassifier\n",
    "from sklearn.pipeline import Pipeline\n",
    "import nltk\n",
    "from nltk.corpus import stopwords\n",
    "nltk.download('stopwords')\n",
    "nltk.download('punkt')\n",
    "\n",
    "import gensim\n",
    "\n",
    "from afinn import Afinn\n",
    "from newspaper import Article\n",
    "\n",
    "import warnings\n",
    "warnings.filterwarnings(\"ignore\")"
   ]
  },
  {
   "cell_type": "code",
   "execution_count": 7,
   "metadata": {},
   "outputs": [],
   "source": [
    "import pysrt\n",
    "subs = pysrt.open('Shrek-2001.srt', encoding='iso-8859-1')"
   ]
  },
  {
   "cell_type": "code",
   "execution_count": 19,
   "metadata": {},
   "outputs": [
    {
     "data": {
      "text/plain": [
       "1097"
      ]
     },
     "execution_count": 19,
     "metadata": {},
     "output_type": "execute_result"
    }
   ],
   "source": [
    "len(subs)"
   ]
  },
  {
   "cell_type": "code",
   "execution_count": 22,
   "metadata": {},
   "outputs": [],
   "source": [
    "corpus= []\n",
    "for x in range(len(subs)):\n",
    "    corpus.append(subs[x].text)\n",
    "    "
   ]
  },
  {
   "cell_type": "code",
   "execution_count": 26,
   "metadata": {},
   "outputs": [],
   "source": [
    "afinn = Afinn(\"en\")\n",
    "sents = [afinn.score(doc) for doc in corpus]"
   ]
  },
  {
   "cell_type": "code",
   "execution_count": 27,
   "metadata": {},
   "outputs": [
    {
     "data": {
      "text/plain": [
       "[3.0, -2.0, 4.0]"
      ]
     },
     "execution_count": 27,
     "metadata": {},
     "output_type": "execute_result"
    }
   ],
   "source": [
    "sents[:3]"
   ]
  },
  {
   "cell_type": "code",
   "execution_count": 28,
   "metadata": {},
   "outputs": [],
   "source": [
    "df = pd.DataFrame({'scene':corpus, 'sents':sents})"
   ]
  },
  {
   "cell_type": "code",
   "execution_count": 35,
   "metadata": {},
   "outputs": [],
   "source": [
    "from nltk.tokenize import word_tokenize, RegexpTokenizer, WordPunctTokenizer, TweetTokenizer\n",
    "\n",
    "def parser(text):\n",
    "  return nltk.word_tokenize(text)"
   ]
  },
  {
   "cell_type": "code",
   "execution_count": 37,
   "metadata": {},
   "outputs": [
    {
     "data": {
      "text/plain": [
       "CountVectorizer(tokenizer=<function parser at 0x00000288F251C670>)"
      ]
     },
     "execution_count": 37,
     "metadata": {},
     "output_type": "execute_result"
    }
   ],
   "source": [
    "cv = CountVectorizer(tokenizer=parser)\n",
    "cv.fit(corpus)"
   ]
  },
  {
   "cell_type": "code",
   "execution_count": 40,
   "metadata": {},
   "outputs": [],
   "source": [
    "dtm = cv.transform(corpus)\n",
    "shrek_df = pd.DataFrame(dtm.toarray(), columns=cv.get_feature_names_out())"
   ]
  },
  {
   "cell_type": "code",
   "execution_count": 41,
   "metadata": {},
   "outputs": [
    {
     "data": {
      "text/html": [
       "<div>\n",
       "<style scoped>\n",
       "    .dataframe tbody tr th:only-of-type {\n",
       "        vertical-align: middle;\n",
       "    }\n",
       "\n",
       "    .dataframe tbody tr th {\n",
       "        vertical-align: top;\n",
       "    }\n",
       "\n",
       "    .dataframe thead th {\n",
       "        text-align: right;\n",
       "    }\n",
       "</style>\n",
       "<table border=\"1\" class=\"dataframe\">\n",
       "  <thead>\n",
       "    <tr style=\"text-align: right;\">\n",
       "      <th></th>\n",
       "      <th>!</th>\n",
       "      <th>'</th>\n",
       "      <th>''</th>\n",
       "      <th>'cause</th>\n",
       "      <th>'course</th>\n",
       "      <th>'d</th>\n",
       "      <th>'digged</th>\n",
       "      <th>'ll</th>\n",
       "      <th>'m</th>\n",
       "      <th>'re</th>\n",
       "      <th>...</th>\n",
       "      <th>yeah</th>\n",
       "      <th>years</th>\n",
       "      <th>yes</th>\n",
       "      <th>yesterday</th>\n",
       "      <th>yet</th>\n",
       "      <th>you</th>\n",
       "      <th>young</th>\n",
       "      <th>your</th>\n",
       "      <th>yours</th>\n",
       "      <th>yourself</th>\n",
       "    </tr>\n",
       "  </thead>\n",
       "  <tbody>\n",
       "    <tr>\n",
       "      <th>410</th>\n",
       "      <td>0</td>\n",
       "      <td>0</td>\n",
       "      <td>0</td>\n",
       "      <td>0</td>\n",
       "      <td>0</td>\n",
       "      <td>0</td>\n",
       "      <td>0</td>\n",
       "      <td>0</td>\n",
       "      <td>0</td>\n",
       "      <td>0</td>\n",
       "      <td>...</td>\n",
       "      <td>0</td>\n",
       "      <td>0</td>\n",
       "      <td>0</td>\n",
       "      <td>0</td>\n",
       "      <td>0</td>\n",
       "      <td>1</td>\n",
       "      <td>0</td>\n",
       "      <td>0</td>\n",
       "      <td>0</td>\n",
       "      <td>0</td>\n",
       "    </tr>\n",
       "  </tbody>\n",
       "</table>\n",
       "<p>1 rows × 1386 columns</p>\n",
       "</div>"
      ],
      "text/plain": [
       "     !  '  ''  'cause  'course  'd  'digged  'll  'm  're  ...  yeah  years  \\\n",
       "410  0  0   0       0        0   0        0    0   0    0  ...     0      0   \n",
       "\n",
       "     yes  yesterday  yet  you  young  your  yours  yourself  \n",
       "410    0          0    0    1      0     0      0         0  \n",
       "\n",
       "[1 rows x 1386 columns]"
      ]
     },
     "execution_count": 41,
     "metadata": {},
     "output_type": "execute_result"
    }
   ],
   "source": [
    "shrek_df.sample(1)"
   ]
  },
  {
   "cell_type": "code",
   "execution_count": 44,
   "metadata": {},
   "outputs": [],
   "source": [
    "SQL = \"SELECT * FROM `questrom.datasets.airlines-tweets`\"\n",
    "YOUR_BILLING_PROJECT = \"ba820-329602\"\n",
    "tweets = pd.read_gbq(SQL, YOUR_BILLING_PROJECT)"
   ]
  },
  {
   "cell_type": "code",
   "execution_count": 46,
   "metadata": {},
   "outputs": [],
   "source": [
    "from nltk import Text\n",
    "\n",
    "tweet_text = tweets.text.tolist()\n",
    "\n",
    "corpus = \" \".join(tweet_text)\n",
    "\n",
    "tokens = nltk.word_tokenize(corpus)\n",
    "len(tokens)\n",
    "\n",
    "text = Text(tokens)"
   ]
  },
  {
   "cell_type": "code",
   "execution_count": 49,
   "metadata": {},
   "outputs": [
    {
     "name": "stdout",
     "output_type": "stream",
     "text": [
      "Displaying 10 of 3902 matches:\n",
      "lz help me win my bid upgrade for my flight 2/27 LAX -- - & gt ; SEA ! ! ! 🍷👍💺✈️\n",
      "y elevate account for my most recent flight , how do i add the flight and points\n",
      "ost recent flight , how do i add the flight and points to my account ? @ VirginA\n",
      " my account ? @ VirginAmerica why is flight 345 redirected ? @ VirginAmerica try\n",
      "merica I was scheduled for SFO 2 DAL flight 714 today . Changed to 24th due weat\n",
      "ged to 24th due weather . Looks like flight still on ? @ VirginAmerica Have a gr\n",
      "nonstop . Thanks for such an awesome flight and depart time . # VAbeatsJblue @ V\n",
      " . # VAbeatsJblue @ VirginAmerica is flight 882 Cancelled Flightled and what do \n",
      "g back online ? @ VirginAmerica - Is Flight 713 from Love Field to SFO definitel\n",
      "y , February 23 ? @ VirginAmerica Is flight 0769 out of LGA to DFW on time ? @ V\n"
     ]
    }
   ],
   "source": [
    "text.concordance(\"flight\", width=80, lines=10)"
   ]
  },
  {
   "cell_type": "code",
   "execution_count": 50,
   "metadata": {},
   "outputs": [
    {
     "name": "stdout",
     "output_type": "stream",
     "text": [
      "✔ Download and installation successful\n",
      "You can now load the package via spacy.load('en_core_web_sm')\n"
     ]
    }
   ],
   "source": [
    "model = \"en_core_web_sm\"\n",
    "cli.download(model)\n",
    "nlp = spacy.load(model)"
   ]
  },
  {
   "cell_type": "code",
   "execution_count": 53,
   "metadata": {},
   "outputs": [
    {
     "data": {
      "text/plain": [
       "['tok2vec',\n",
       " 'tagger',\n",
       " 'parser',\n",
       " 'attribute_ruler',\n",
       " 'lemmatizer',\n",
       " 'ner',\n",
       " 'spacytextblob',\n",
       " 'descriptive_stats',\n",
       " 'readability',\n",
       " 'dependency_distance',\n",
       " 'pos_stats',\n",
       " 'textdescriptives']"
      ]
     },
     "execution_count": 53,
     "metadata": {},
     "output_type": "execute_result"
    }
   ],
   "source": [
    "nlp.pipe_names"
   ]
  },
  {
   "cell_type": "code",
   "execution_count": 51,
   "metadata": {},
   "outputs": [
    {
     "data": {
      "text/plain": [
       "<textdescriptives.load_components.TextDescriptives at 0x288985b6fd0>"
      ]
     },
     "execution_count": 51,
     "metadata": {},
     "output_type": "execute_result"
    }
   ],
   "source": [
    "nlp.add_pipe(\"spacytextblob\")\n",
    "nlp.add_pipe(\"textdescriptives\")"
   ]
  },
  {
   "cell_type": "code",
   "execution_count": 52,
   "metadata": {},
   "outputs": [],
   "source": [
    "docs = nlp.pipe(tweets.text.sample(100, random_state=820))"
   ]
  },
  {
   "cell_type": "code",
   "execution_count": 54,
   "metadata": {},
   "outputs": [],
   "source": [
    "tweets_df = td.extract_df(docs)"
   ]
  },
  {
   "cell_type": "code",
   "execution_count": 56,
   "metadata": {},
   "outputs": [
    {
     "data": {
      "text/html": [
       "<div>\n",
       "<style scoped>\n",
       "    .dataframe tbody tr th:only-of-type {\n",
       "        vertical-align: middle;\n",
       "    }\n",
       "\n",
       "    .dataframe tbody tr th {\n",
       "        vertical-align: top;\n",
       "    }\n",
       "\n",
       "    .dataframe thead th {\n",
       "        text-align: right;\n",
       "    }\n",
       "</style>\n",
       "<table border=\"1\" class=\"dataframe\">\n",
       "  <thead>\n",
       "    <tr style=\"text-align: right;\">\n",
       "      <th></th>\n",
       "      <th>text</th>\n",
       "      <th>token_length_mean</th>\n",
       "      <th>token_length_median</th>\n",
       "      <th>token_length_std</th>\n",
       "      <th>sentence_length_mean</th>\n",
       "      <th>sentence_length_median</th>\n",
       "      <th>sentence_length_std</th>\n",
       "      <th>syllables_per_token_mean</th>\n",
       "      <th>syllables_per_token_median</th>\n",
       "      <th>syllables_per_token_std</th>\n",
       "      <th>...</th>\n",
       "      <th>pos_prop_CCONJ</th>\n",
       "      <th>pos_prop_SCONJ</th>\n",
       "      <th>pos_prop_DET</th>\n",
       "      <th>pos_prop_ADJ</th>\n",
       "      <th>pos_prop_PROPN</th>\n",
       "      <th>pos_prop_ADP</th>\n",
       "      <th>pos_prop_ADV</th>\n",
       "      <th>pos_prop_SYM</th>\n",
       "      <th>pos_prop_SPACE</th>\n",
       "      <th>pos_prop_INTJ</th>\n",
       "    </tr>\n",
       "  </thead>\n",
       "  <tbody>\n",
       "    <tr>\n",
       "      <th>0</th>\n",
       "      <td>@AmericanAir ...2/2 doesn't help me.</td>\n",
       "      <td>5.000000</td>\n",
       "      <td>4.0</td>\n",
       "      <td>3.577709</td>\n",
       "      <td>5.0</td>\n",
       "      <td>5.0</td>\n",
       "      <td>0.0</td>\n",
       "      <td>1.400000</td>\n",
       "      <td>1.0</td>\n",
       "      <td>0.800000</td>\n",
       "      <td>...</td>\n",
       "      <td>NaN</td>\n",
       "      <td>NaN</td>\n",
       "      <td>NaN</td>\n",
       "      <td>NaN</td>\n",
       "      <td>NaN</td>\n",
       "      <td>NaN</td>\n",
       "      <td>NaN</td>\n",
       "      <td>NaN</td>\n",
       "      <td>NaN</td>\n",
       "      <td>NaN</td>\n",
       "    </tr>\n",
       "    <tr>\n",
       "      <th>1</th>\n",
       "      <td>@USAirways and if the flight is full?</td>\n",
       "      <td>4.285714</td>\n",
       "      <td>3.0</td>\n",
       "      <td>2.657296</td>\n",
       "      <td>7.0</td>\n",
       "      <td>7.0</td>\n",
       "      <td>0.0</td>\n",
       "      <td>1.285714</td>\n",
       "      <td>1.0</td>\n",
       "      <td>0.699854</td>\n",
       "      <td>...</td>\n",
       "      <td>0.125000</td>\n",
       "      <td>0.125</td>\n",
       "      <td>0.125000</td>\n",
       "      <td>0.125000</td>\n",
       "      <td>NaN</td>\n",
       "      <td>NaN</td>\n",
       "      <td>NaN</td>\n",
       "      <td>NaN</td>\n",
       "      <td>NaN</td>\n",
       "      <td>NaN</td>\n",
       "    </tr>\n",
       "    <tr>\n",
       "      <th>2</th>\n",
       "      <td>@SouthwestAir Gate attendant at McCarran C16 (...</td>\n",
       "      <td>4.909091</td>\n",
       "      <td>4.0</td>\n",
       "      <td>3.028787</td>\n",
       "      <td>11.0</td>\n",
       "      <td>11.0</td>\n",
       "      <td>2.0</td>\n",
       "      <td>1.545455</td>\n",
       "      <td>1.0</td>\n",
       "      <td>0.782030</td>\n",
       "      <td>...</td>\n",
       "      <td>0.038462</td>\n",
       "      <td>NaN</td>\n",
       "      <td>0.038462</td>\n",
       "      <td>0.076923</td>\n",
       "      <td>0.192308</td>\n",
       "      <td>0.192308</td>\n",
       "      <td>0.038462</td>\n",
       "      <td>NaN</td>\n",
       "      <td>NaN</td>\n",
       "      <td>NaN</td>\n",
       "    </tr>\n",
       "  </tbody>\n",
       "</table>\n",
       "<p>3 rows × 45 columns</p>\n",
       "</div>"
      ],
      "text/plain": [
       "                                                text  token_length_mean  \\\n",
       "0               @AmericanAir ...2/2 doesn't help me.           5.000000   \n",
       "1              @USAirways and if the flight is full?           4.285714   \n",
       "2  @SouthwestAir Gate attendant at McCarran C16 (...           4.909091   \n",
       "\n",
       "   token_length_median  token_length_std  sentence_length_mean  \\\n",
       "0                  4.0          3.577709                   5.0   \n",
       "1                  3.0          2.657296                   7.0   \n",
       "2                  4.0          3.028787                  11.0   \n",
       "\n",
       "   sentence_length_median  sentence_length_std  syllables_per_token_mean  \\\n",
       "0                     5.0                  0.0                  1.400000   \n",
       "1                     7.0                  0.0                  1.285714   \n",
       "2                    11.0                  2.0                  1.545455   \n",
       "\n",
       "   syllables_per_token_median  syllables_per_token_std  ...  pos_prop_CCONJ  \\\n",
       "0                         1.0                 0.800000  ...             NaN   \n",
       "1                         1.0                 0.699854  ...        0.125000   \n",
       "2                         1.0                 0.782030  ...        0.038462   \n",
       "\n",
       "   pos_prop_SCONJ  pos_prop_DET  pos_prop_ADJ  pos_prop_PROPN  pos_prop_ADP  \\\n",
       "0             NaN           NaN           NaN             NaN           NaN   \n",
       "1           0.125      0.125000      0.125000             NaN           NaN   \n",
       "2             NaN      0.038462      0.076923        0.192308      0.192308   \n",
       "\n",
       "   pos_prop_ADV  pos_prop_SYM  pos_prop_SPACE  pos_prop_INTJ  \n",
       "0           NaN           NaN             NaN            NaN  \n",
       "1           NaN           NaN             NaN            NaN  \n",
       "2      0.038462           NaN             NaN            NaN  \n",
       "\n",
       "[3 rows x 45 columns]"
      ]
     },
     "execution_count": 56,
     "metadata": {},
     "output_type": "execute_result"
    }
   ],
   "source": [
    "tweets_df.shape\n",
    "tweets_df.head(3)"
   ]
  },
  {
   "cell_type": "code",
   "execution_count": 57,
   "metadata": {},
   "outputs": [
    {
     "data": {
      "text/plain": [
       "count    100.000000\n",
       "mean       8.235409\n",
       "std        3.923389\n",
       "min        0.800000\n",
       "25%        5.657143\n",
       "50%        8.133333\n",
       "75%       10.942944\n",
       "max       20.584615\n",
       "Name: gunning_fog, dtype: float64"
      ]
     },
     "execution_count": 57,
     "metadata": {},
     "output_type": "execute_result"
    }
   ],
   "source": [
    "tweets_df.gunning_fog.describe()"
   ]
  },
  {
   "cell_type": "code",
   "execution_count": 58,
   "metadata": {},
   "outputs": [
    {
     "data": {
      "text/plain": [
       "<AxesSubplot:xlabel='gunning_fog', ylabel='coleman_liau_index'>"
      ]
     },
     "execution_count": 58,
     "metadata": {},
     "output_type": "execute_result"
    },
    {
     "data": {
      "image/png": "[encoded data removed]",
      "text/plain": [
       "<Figure size 432x288 with 1 Axes>"
      ]
     },
     "metadata": {
      "needs_background": "light"
     },
     "output_type": "display_data"
    }
   ],
   "source": [
    "sns.scatterplot(x=\"gunning_fog\", y=\"coleman_liau_index\", data=tweets_df)"
   ]
  },
  {
   "cell_type": "code",
   "execution_count": 77,
   "metadata": {},
   "outputs": [],
   "source": [
    "URL1 = \"https://www.bbc.com/culture/article/20211117-why-u2s-one-is-the-ultimate-anthem\"\n",
    "URL2 = \"https://www.theonion.com/dollar-dangling-from-fishing-line-sure-does-look-entici-1848019332\"\n",
    "URL3 = \"https://www.nytimes.com/2021/11/20/world/china-congo-cobalt-explained.html\"\n",
    "\n",
    "article = []\n",
    "\n",
    "article1 = Article(URL1)\n",
    "article1.download()\n",
    "article1.parse()\n",
    "article1.nlp()\n",
    "article.append(article1.text)\n",
    "\n",
    "\n",
    "article2 = Article(URL2)\n",
    "article2.download()\n",
    "article2.parse()\n",
    "article2.nlp()\n",
    "article.append(article2.text)\n",
    "\n",
    "article3 = Article(URL3)\n",
    "article3.download()\n",
    "article3.parse()\n",
    "article3.nlp()\n",
    "article.append(article3.text)"
   ]
  },
  {
   "cell_type": "code",
   "execution_count": 71,
   "metadata": {},
   "outputs": [],
   "source": [
    "docs = nlp.pipe(article)\n",
    "tweets_df = td.extract_df(docs, metrics=\"readability\")\n"
   ]
  },
  {
   "cell_type": "code",
   "execution_count": 72,
   "metadata": {},
   "outputs": [
    {
     "data": {
      "text/html": [
       "<div>\n",
       "<style scoped>\n",
       "    .dataframe tbody tr th:only-of-type {\n",
       "        vertical-align: middle;\n",
       "    }\n",
       "\n",
       "    .dataframe tbody tr th {\n",
       "        vertical-align: top;\n",
       "    }\n",
       "\n",
       "    .dataframe thead th {\n",
       "        text-align: right;\n",
       "    }\n",
       "</style>\n",
       "<table border=\"1\" class=\"dataframe\">\n",
       "  <thead>\n",
       "    <tr style=\"text-align: right;\">\n",
       "      <th></th>\n",
       "      <th>text</th>\n",
       "      <th>flesch_reading_ease</th>\n",
       "      <th>flesch_kincaid_grade</th>\n",
       "      <th>smog</th>\n",
       "      <th>gunning_fog</th>\n",
       "      <th>automated_readability_index</th>\n",
       "      <th>coleman_liau_index</th>\n",
       "      <th>lix</th>\n",
       "      <th>rix</th>\n",
       "    </tr>\n",
       "  </thead>\n",
       "  <tbody>\n",
       "    <tr>\n",
       "      <th>0</th>\n",
       "      <td>The song continued to evolve during the Zoo TV...</td>\n",
       "      <td>75.029716</td>\n",
       "      <td>8.259602</td>\n",
       "      <td>10.052491</td>\n",
       "      <td>11.470455</td>\n",
       "      <td>9.741378</td>\n",
       "      <td>8.036648</td>\n",
       "      <td>40.039773</td>\n",
       "      <td>3.96875</td>\n",
       "    </tr>\n",
       "    <tr>\n",
       "      <th>1</th>\n",
       "      <td>BRATTLEBORO, VT—Rubbing his hands together in ...</td>\n",
       "      <td>78.313636</td>\n",
       "      <td>8.191948</td>\n",
       "      <td>8.418075</td>\n",
       "      <td>10.883117</td>\n",
       "      <td>9.709532</td>\n",
       "      <td>7.105697</td>\n",
       "      <td>36.298701</td>\n",
       "      <td>3.00000</td>\n",
       "    </tr>\n",
       "    <tr>\n",
       "      <th>2</th>\n",
       "      <td>The five biggest Chinese mining companies in C...</td>\n",
       "      <td>69.606379</td>\n",
       "      <td>8.022337</td>\n",
       "      <td>10.924579</td>\n",
       "      <td>11.337931</td>\n",
       "      <td>10.353046</td>\n",
       "      <td>10.998084</td>\n",
       "      <td>43.670498</td>\n",
       "      <td>4.62069</td>\n",
       "    </tr>\n",
       "  </tbody>\n",
       "</table>\n",
       "</div>"
      ],
      "text/plain": [
       "                                                text  flesch_reading_ease  \\\n",
       "0  The song continued to evolve during the Zoo TV...            75.029716   \n",
       "1  BRATTLEBORO, VT—Rubbing his hands together in ...            78.313636   \n",
       "2  The five biggest Chinese mining companies in C...            69.606379   \n",
       "\n",
       "   flesch_kincaid_grade       smog  gunning_fog  automated_readability_index  \\\n",
       "0              8.259602  10.052491    11.470455                     9.741378   \n",
       "1              8.191948   8.418075    10.883117                     9.709532   \n",
       "2              8.022337  10.924579    11.337931                    10.353046   \n",
       "\n",
       "   coleman_liau_index        lix      rix  \n",
       "0            8.036648  40.039773  3.96875  \n",
       "1            7.105697  36.298701  3.00000  \n",
       "2           10.998084  43.670498  4.62069  "
      ]
     },
     "execution_count": 72,
     "metadata": {},
     "output_type": "execute_result"
    }
   ],
   "source": [
    "tweets_df"
   ]
  },
  {
   "cell_type": "code",
   "execution_count": 82,
   "metadata": {},
   "outputs": [],
   "source": [
    "from tokenwiser.extension import sklearn_method\n",
    "\n",
    "SQL = \"SELECT * from `questrom.SMSspam.train`\"\n",
    "YOUR_BILLING_PROJECT = \"ba820-329602\"\n",
    "train = pd.read_gbq(SQL, YOUR_BILLING_PROJECT)"
   ]
  },
  {
   "cell_type": "code",
   "execution_count": 84,
   "metadata": {},
   "outputs": [
    {
     "data": {
      "text/html": [
       "<div>\n",
       "<style scoped>\n",
       "    .dataframe tbody tr th:only-of-type {\n",
       "        vertical-align: middle;\n",
       "    }\n",
       "\n",
       "    .dataframe tbody tr th {\n",
       "        vertical-align: top;\n",
       "    }\n",
       "\n",
       "    .dataframe thead th {\n",
       "        text-align: right;\n",
       "    }\n",
       "</style>\n",
       "<table border=\"1\" class=\"dataframe\">\n",
       "  <thead>\n",
       "    <tr style=\"text-align: right;\">\n",
       "      <th></th>\n",
       "      <th>message</th>\n",
       "      <th>label</th>\n",
       "      <th>id</th>\n",
       "    </tr>\n",
       "  </thead>\n",
       "  <tbody>\n",
       "    <tr>\n",
       "      <th>2131</th>\n",
       "      <td>Probably not, still going over some stuff here</td>\n",
       "      <td>ham</td>\n",
       "      <td>2785</td>\n",
       "    </tr>\n",
       "    <tr>\n",
       "      <th>3172</th>\n",
       "      <td>Im just wondering what your doing right now?</td>\n",
       "      <td>ham</td>\n",
       "      <td>4166</td>\n",
       "    </tr>\n",
       "  </tbody>\n",
       "</table>\n",
       "</div>"
      ],
      "text/plain": [
       "                                             message label    id\n",
       "2131  Probably not, still going over some stuff here   ham  2785\n",
       "3172    Im just wondering what your doing right now?   ham  4166"
      ]
     },
     "execution_count": 84,
     "metadata": {},
     "output_type": "execute_result"
    }
   ],
   "source": [
    "train.sample(2)"
   ]
  },
  {
   "cell_type": "code",
   "execution_count": 86,
   "metadata": {},
   "outputs": [],
   "source": [
    "steps = [(\"cv\", CountVectorizer()), \n",
    "         (\"clf\", DecisionTreeClassifier(max_depth=7, \n",
    "                                        min_samples_leaf=15, \n",
    "                                        min_samples_split=30, \n",
    "                                        random_state=820))]\n",
    "\n",
    "pipe = Pipeline(steps)"
   ]
  },
  {
   "cell_type": "code",
   "execution_count": 87,
   "metadata": {},
   "outputs": [
    {
     "data": {
      "text/plain": [
       "Pipeline(steps=[('cv', CountVectorizer()),\n",
       "                ('clf',\n",
       "                 DecisionTreeClassifier(max_depth=7, min_samples_leaf=15,\n",
       "                                        min_samples_split=30,\n",
       "                                        random_state=820))])"
      ]
     },
     "execution_count": 87,
     "metadata": {},
     "output_type": "execute_result"
    }
   ],
   "source": [
    "pipe.fit(train.message, train.label)"
   ]
  },
  {
   "cell_type": "code",
   "execution_count": 100,
   "metadata": {},
   "outputs": [
    {
     "data": {
      "text/plain": [
       "array(['ham', 'spam'], dtype=object)"
      ]
     },
     "execution_count": 100,
     "metadata": {},
     "output_type": "execute_result"
    }
   ],
   "source": [
    "sms = \"Hey, how are you?\"\n",
    "\n",
    "pipe.predict_proba([sms])\n",
    "pipe.classes_"
   ]
  },
  {
   "cell_type": "code",
   "execution_count": 101,
   "metadata": {},
   "outputs": [],
   "source": [
    "from spacy.tokens import Doc\n",
    "Doc.set_extension(\"spam\", getter=sklearn_method(pipe))"
   ]
  },
  {
   "cell_type": "code",
   "execution_count": 102,
   "metadata": {},
   "outputs": [],
   "source": [
    "doc = nlp(sms)"
   ]
  },
  {
   "cell_type": "code",
   "execution_count": 104,
   "metadata": {},
   "outputs": [
    {
     "data": {
      "text/plain": [
       "{'ham': 0.9760918074593561, 'spam': 0.023908192540643927}"
      ]
     },
     "execution_count": 104,
     "metadata": {},
     "output_type": "execute_result"
    }
   ],
   "source": [
    "doc._.spam"
   ]
  },
  {
   "cell_type": "code",
   "execution_count": 107,
   "metadata": {},
   "outputs": [],
   "source": [
    "def spam_cat(doc):\n",
    "  label = pipe.predict([doc.text[0]])\n",
    "  label = str(label[0])\n",
    "  return label\n",
    "\n",
    "Doc.set_extension(\"label_spam\", getter=spam_cat)"
   ]
  },
  {
   "cell_type": "code",
   "execution_count": 108,
   "metadata": {},
   "outputs": [],
   "source": [
    "doc = nlp(sms)"
   ]
  },
  {
   "cell_type": "code",
   "execution_count": 109,
   "metadata": {},
   "outputs": [
    {
     "data": {
      "text/plain": [
       "'ham'"
      ]
     },
     "execution_count": 109,
     "metadata": {},
     "output_type": "execute_result"
    }
   ],
   "source": [
    "doc._.label_spam"
   ]
  }
 ],
 "metadata": {
  "interpreter": {
   "hash": "b3ba2566441a7c06988d0923437866b63cedc61552a5af99d1f4fb67d367b25f"
  },
  "kernelspec": {
   "display_name": "Python 3.8.5 64-bit ('base': conda)",
   "language": "python",
   "name": "python3"
  },
  "language_info": {
   "codemirror_mode": {
    "name": "ipython",
    "version": 3
   },
   "file_extension": ".py",
   "mimetype": "text/x-python",
   "name": "python",
   "nbconvert_exporter": "python",
   "pygments_lexer": "ipython3",
   "version": "3.8.12"
  },
  "orig_nbformat": 4
 },
 "nbformat": 4,
 "nbformat_minor": 2
}
